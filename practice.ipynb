{
 "cells": [
  {
   "cell_type": "markdown",
   "source": [
    "# 두 수의 내적 구하기"
   ],
   "metadata": {}
  },
  {
   "cell_type": "code",
   "execution_count": null,
   "source": [
    "int solution(int a[], size_t a_len, int b[], size_t b_len) {\r\n",
    "    int answer = 1234567890;\r\n",
    "    retrun answer;\r\n",
    "}"
   ],
   "outputs": [],
   "metadata": {}
  },
  {
   "cell_type": "code",
   "execution_count": 1,
   "source": [
    "a = list(map(int, input().split()))\r\n",
    "b = list(map(int, input().split()))\r\n",
    "result = 0\r\n",
    "if len(a)==len(b):\r\n",
    "    for i in range(len(a)):\r\n",
    "        result += a[i]*b[i]\r\n",
    "elif len(a) != len(b):\r\n",
    "    print('두 배열의 개수가 다릅니다.')\r\n",
    "    a = list(map(int, input().split()))\r\n",
    "    b = list(map(int, input().split()))\r\n",
    "print(f'a와 b의 내적은 {result} 입니다.')\r\n"
   ],
   "outputs": [
    {
     "output_type": "stream",
     "name": "stdout",
     "text": [
      "a와 b의 내적은 3 입니다\n"
     ]
    }
   ],
   "metadata": {}
  },
  {
   "cell_type": "code",
   "execution_count": 1,
   "source": [
    "def solution(x,y):\r\n",
    "    if len(x)==len(y):\r\n",
    "        result = 0\r\n",
    "        for i in range(len(x)):\r\n",
    "        result += x[i]*y[i]\r\n",
    "        print(f'a와 b의 내적은 {result} 입니다.')\r\n",
    "    elif len(x) != len(y):\r\n",
    "        print('두 배열의 개수가 다릅니다.')\r\n",
    "\r\n",
    "a = list(map(int, input().split()))\r\n",
    "b = list(map(int, input().split()))\r\n",
    "\r\n",
    "solution(a,b)"
   ],
   "outputs": [
    {
     "output_type": "error",
     "ename": "IndentationError",
     "evalue": "expected an indented block (<ipython-input-1-80792e675824>, line 5)",
     "traceback": [
      "\u001b[1;36m  File \u001b[1;32m\"<ipython-input-1-80792e675824>\"\u001b[1;36m, line \u001b[1;32m5\u001b[0m\n\u001b[1;33m    result += x[i]*y[i]\u001b[0m\n\u001b[1;37m    ^\u001b[0m\n\u001b[1;31mIndentationError\u001b[0m\u001b[1;31m:\u001b[0m expected an indented block\n"
     ]
    }
   ],
   "metadata": {}
  }
 ],
 "metadata": {
  "orig_nbformat": 4,
  "language_info": {
   "name": "python",
   "version": "3.8.10",
   "mimetype": "text/x-python",
   "codemirror_mode": {
    "name": "ipython",
    "version": 3
   },
   "pygments_lexer": "ipython3",
   "nbconvert_exporter": "python",
   "file_extension": ".py"
  },
  "kernelspec": {
   "name": "python3",
   "display_name": "Python 3.8.10 64-bit ('base': conda)"
  },
  "interpreter": {
   "hash": "acbbfebbbdf654efa85aa18169a14b54796a806b8c18a3c243660030e08aa454"
  }
 },
 "nbformat": 4,
 "nbformat_minor": 2
}