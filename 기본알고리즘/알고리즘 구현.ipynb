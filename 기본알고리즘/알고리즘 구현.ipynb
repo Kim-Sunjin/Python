{
 "cells": [
  {
   "cell_type": "markdown",
   "source": [
    "# 단순연결 리스트"
   ],
   "metadata": {}
  },
  {
   "cell_type": "code",
   "execution_count": 4,
   "source": [
    "class Node():\r\n",
    "    def __init__(self):\r\n",
    "        self.data = None\r\n",
    "        self.link = None"
   ],
   "outputs": [],
   "metadata": {}
  },
  {
   "cell_type": "code",
   "execution_count": 5,
   "source": [
    "def printNodes(start):\r\n",
    "    current = start\r\n",
    "    if current == None:\r\n",
    "        return\r\n",
    "    print(current.data, end=' ')\r\n",
    "    while current.link != None:\r\n",
    "        current = current.link\r\n",
    "        print(current.data, end=' ')\r\n",
    "    print()"
   ],
   "outputs": [],
   "metadata": {}
  },
  {
   "cell_type": "code",
   "execution_count": 6,
   "source": [
    "# 전역변수 선언 부분\r\n",
    "memory = []\r\n",
    "head, current, pre = None, None, None\r\n",
    "dataArray = ['다현','정연','쯔위','사나','지효']\r\n",
    "\r\n",
    "node = Node()\r\n",
    "node.data = dataArray[0]\r\n",
    "head = node\r\n",
    "memory.append(node)\r\n",
    "\r\n",
    "for data in dataArray[1:]:\r\n",
    "    pre = node\r\n",
    "    node = Node()\r\n",
    "    node.data = data\r\n",
    "    pre.link = node\r\n",
    "    memory.append(node)\r\n",
    "\r\n",
    "printNodes(head)"
   ],
   "outputs": [
    {
     "output_type": "stream",
     "name": "stdout",
     "text": [
      "다현 정연 쯔위 사나 지효 \n"
     ]
    }
   ],
   "metadata": {}
  },
  {
   "cell_type": "code",
   "execution_count": 1,
   "source": [
    "def insertNode(findData, insertData):\r\n",
    "    global memory, head, current, pre\r\n",
    "\r\n",
    "    if head.data == findData:\r\n",
    "        node = Node()\r\n",
    "        node.data = insertData\r\n",
    "        node.link = head\r\n",
    "        head = node\r\n",
    "        return\r\n",
    "    \r\n",
    "    current = head\r\n",
    "    while current.link != None:\r\n",
    "        pre = current\r\n",
    "        current = current.link\r\n",
    "        if current.data == findData:\r\n",
    "            node = Node()\r\n",
    "            node.data = insertData\r\n",
    "            node.link = current\r\n",
    "            pre.link = node\r\n",
    "            return\r\n",
    "    \r\n",
    "    node = Node()\r\n",
    "    node.data = insertData\r\n",
    "    current.link = node"
   ],
   "outputs": [],
   "metadata": {}
  },
  {
   "cell_type": "code",
   "execution_count": 2,
   "source": [
    "def deleteNode(deleteData):\r\n",
    "    global memory, head, current, pre\r\n",
    "\r\n",
    "    if head.data == deleteData:\r\n",
    "        current = head\r\n",
    "        head = head.link\r\n",
    "        del(current)\r\n",
    "        return\r\n",
    "    \r\n",
    "    current = head\r\n",
    "    while current.link != None:\r\n",
    "        pre = current\r\n",
    "        current = current.link\r\n",
    "        if current.data == deleteData:\r\n",
    "            pre.link = current.link\r\n",
    "            del(current)\r\n",
    "            return"
   ],
   "outputs": [],
   "metadata": {}
  },
  {
   "cell_type": "code",
   "execution_count": 7,
   "source": [
    "printNodes(head)    "
   ],
   "outputs": [
    {
     "output_type": "stream",
     "name": "stdout",
     "text": [
      "다현 정연 쯔위 사나 지효 \n"
     ]
    }
   ],
   "metadata": {}
  },
  {
   "cell_type": "code",
   "execution_count": 8,
   "source": [
    "deleteNode('다현')\r\n",
    "printNodes(head)"
   ],
   "outputs": [
    {
     "output_type": "stream",
     "name": "stdout",
     "text": [
      "정연 쯔위 사나 지효 \n"
     ]
    }
   ],
   "metadata": {}
  },
  {
   "cell_type": "code",
   "execution_count": 10,
   "source": [
    "node1 = Node()\r\n",
    "node1.data = \"다현\"\r\n",
    "node.link = node1\r\n",
    "\r\n",
    "node2 = Node()\r\n",
    "node2.data = \"정연\"\r\n",
    "node1.link = node2\r\n",
    "node2.link = node1\r\n",
    "\r\n",
    "node3 = Node()\r\n",
    "node3.data = \"쯔위\"\r\n",
    "node2.link = node3\r\n",
    "node3.link = node1\r\n",
    "\r\n",
    "current = node1\r\n",
    "print(current.data, end=' ')\r\n",
    "while current.link != node1:\r\n",
    "    current = current.link\r\n",
    "    print(current.data, end=' ')"
   ],
   "outputs": [
    {
     "output_type": "stream",
     "name": "stdout",
     "text": [
      "다현 정연 쯔위 "
     ]
    }
   ],
   "metadata": {}
  },
  {
   "cell_type": "markdown",
   "source": [
    "# 스택(stack)"
   ],
   "metadata": {}
  },
  {
   "cell_type": "code",
   "execution_count": 11,
   "source": [
    "stack = [None,None,None,None,None]\r\n",
    "top = -1"
   ],
   "outputs": [],
   "metadata": {}
  },
  {
   "cell_type": "code",
   "execution_count": 12,
   "source": [
    "top +=1\r\n",
    "stack[top] = '커피'\r\n",
    "top +=1\r\n",
    "stack[top] = '녹차'\r\n",
    "top +=1\r\n",
    "stack[top] = '꿀물'\r\n",
    "\r\n",
    "print(\"-----스택상태------\")\r\n",
    "for i in range(len(stack)-1,-1,-1):\r\n",
    "    print(stack[i])"
   ],
   "outputs": [
    {
     "output_type": "stream",
     "name": "stdout",
     "text": [
      "-----스택상태------\n",
      "None\n",
      "None\n",
      "꿀물\n",
      "녹차\n",
      "커피\n"
     ]
    }
   ],
   "metadata": {}
  },
  {
   "cell_type": "code",
   "execution_count": 13,
   "source": [
    "data = stack[top]\r\n",
    "stack[top] = None\r\n",
    "top -=1\r\n",
    "print(f'pop-->{data}')\r\n",
    "\r\n",
    "data = stack[top]\r\n",
    "stack[top] = None\r\n",
    "top-=1\r\n",
    "print(\"pop-->\",data)\r\n",
    "\r\n",
    "print(\"-----스택상태------\")\r\n",
    "for i in range(len(stack)-1,-1,-1):\r\n",
    "    print(stack[i])"
   ],
   "outputs": [
    {
     "output_type": "stream",
     "name": "stdout",
     "text": [
      "pop-->꿀물\n",
      "pop--> 녹차\n",
      "-----스택상태------\n",
      "None\n",
      "None\n",
      "None\n",
      "None\n",
      "커피\n"
     ]
    }
   ],
   "metadata": {}
  },
  {
   "cell_type": "code",
   "execution_count": 14,
   "source": [
    "size = 5\r\n",
    "stack = [None for i in range(size)]\r\n",
    "top = -1"
   ],
   "outputs": [],
   "metadata": {}
  },
  {
   "cell_type": "code",
   "execution_count": 15,
   "source": [
    "def isStackFull():\r\n",
    "    global size, stack,top\r\n",
    "    if (top>= size-1):\r\n",
    "        return True\r\n",
    "    else:\r\n",
    "        return False"
   ],
   "outputs": [],
   "metadata": {}
  },
  {
   "cell_type": "code",
   "execution_count": 16,
   "source": [
    "def push(data):\r\n",
    "    global size, stack, top\r\n",
    "    if (isStackFull()):\r\n",
    "        print('스택이 꽉 찼습니다.')\r\n",
    "        return\r\n",
    "    top += 1\r\n",
    "    stack[top] = data\r\n"
   ],
   "outputs": [],
   "metadata": {}
  },
  {
   "cell_type": "code",
   "execution_count": 17,
   "source": [
    "def isStackempty():\r\n",
    "    global size, stack, top\r\n",
    "    if top ==-1:\r\n",
    "        return True\r\n",
    "    else:\r\n",
    "        return False"
   ],
   "outputs": [],
   "metadata": {}
  },
  {
   "cell_type": "code",
   "execution_count": 19,
   "source": [
    "def pop():\r\n",
    "    global size, stack,top\r\n",
    "    if isStackempty():\r\n",
    "        print(\"스택이 비었습니다.\")\r\n",
    "        return\r\n",
    "    data = stack[top]\r\n",
    "    stack[top] = None\r\n",
    "    top -=1\r\n",
    "    return data"
   ],
   "outputs": [],
   "metadata": {}
  },
  {
   "cell_type": "code",
   "execution_count": 20,
   "source": [
    "def peek():\r\n",
    "    global size, stack,top\r\n",
    "    if isStackempty():\r\n",
    "        print('스택이 비었습니다.')\r\n",
    "        return\r\n",
    "    return stack[top]"
   ],
   "outputs": [],
   "metadata": {}
  },
  {
   "cell_type": "code",
   "execution_count": 21,
   "source": [
    "select = input(\"삽입, 추출, 확인, 종료 중 하나를 선택-->\")\r\n",
    "\r\n",
    "while select != '종료':\r\n",
    "    if select == '삽입':\r\n",
    "        data = input('삽입할 데이터:')\r\n",
    "        push(data)\r\n",
    "        print(\"스택상태:\",stack)\r\n",
    "    elif select =='추출':\r\n",
    "        data = pop()\r\n",
    "        print('추출한 데이터=', data)\r\n",
    "        print('스택상태:',stack)\r\n",
    "    elif select == '확인':\r\n",
    "        data = peek()\r\n",
    "        print('확인된 데이터:',data)\r\n",
    "        print(\"스택상태:\",stack)\r\n",
    "    else:\r\n",
    "        print('입력값이 잘못되었습니다. 선택지 중에 하나를 선택하시오.')\r\n",
    "    \r\n",
    "    select = input(\"삽입, 추출, 확인, 종료 중 하나를 선택-->\")\r\n",
    "\r\n",
    "print(\"프로그램 종료\")"
   ],
   "outputs": [
    {
     "output_type": "stream",
     "name": "stdout",
     "text": [
      "스택상태: ['다현', None, None, None, None]\n",
      "프로그램 종료\n"
     ]
    }
   ],
   "metadata": {}
  },
  {
   "cell_type": "markdown",
   "source": [
    "# 큐"
   ],
   "metadata": {}
  },
  {
   "cell_type": "code",
   "execution_count": 22,
   "source": [
    "queue = [None for i in range(5)]"
   ],
   "outputs": [],
   "metadata": {}
  },
  {
   "cell_type": "code",
   "execution_count": 23,
   "source": [
    "queue"
   ],
   "outputs": [
    {
     "output_type": "execute_result",
     "data": {
      "text/plain": [
       "[None, None, None, None, None]"
      ]
     },
     "metadata": {},
     "execution_count": 23
    }
   ],
   "metadata": {}
  },
  {
   "cell_type": "code",
   "execution_count": 24,
   "source": [
    "front = rear =-1"
   ],
   "outputs": [],
   "metadata": {}
  },
  {
   "cell_type": "code",
   "execution_count": 25,
   "source": [
    "rear +=1\r\n",
    "queue[rear] = '화사'\r\n",
    "rear +=1\r\n",
    "queue[rear] = '솔라'\r\n",
    "rear +=1\r\n",
    "queue[rear] = '문별'\r\n",
    "rear +=1\r\n",
    "queue[rear] = '휘인'\r\n",
    "\r\n",
    "print(\"----큐상태-----\")\r\n",
    "print('[출구] <--',end=' ')\r\n",
    "for i in range(0,len(queue),1):\r\n",
    "    print(queue[i], end=' ')\r\n",
    "print('<--[입구]')\r\n",
    "print('------------')\r\n",
    "\r\n",
    "front +=1\r\n",
    "data = queue[front]\r\n",
    "queue[front] = None\r\n",
    "print('deQueue -->',data)\r\n",
    "\r\n",
    "front +=1\r\n",
    "data = queue[front]\r\n",
    "queue[front] = None\r\n",
    "print('deQueue -->',data)\r\n",
    "\r\n",
    "front +=1\r\n",
    "data = queue[front]\r\n",
    "queue[front] = None\r\n",
    "print('deQueue -->',data)\r\n",
    "\r\n",
    "print(\"----큐상태-----\")\r\n",
    "print('[출구] <--',end=' ')\r\n",
    "for i in range(0,len(queue),1):\r\n",
    "    print(queue[i], end=' ')\r\n",
    "print('<--[입구]')\r\n",
    "print('------------')"
   ],
   "outputs": [
    {
     "output_type": "stream",
     "name": "stdout",
     "text": [
      "----큐상태-----\n",
      "[출구] <-- 화사 솔라 문별 휘인 None <--[입구]\n",
      "------------\n",
      "deQueue --> 화사\n",
      "deQueue --> 솔라\n",
      "deQueue --> 문별\n",
      "----큐상태-----\n",
      "[출구] <-- None None None 휘인 None <--[입구]\n",
      "------------\n"
     ]
    }
   ],
   "metadata": {}
  },
  {
   "cell_type": "code",
   "execution_count": 26,
   "source": [
    "size = 5\r\n",
    "queue = [None for i in range(size)]\r\n",
    "front = rear =-1"
   ],
   "outputs": [],
   "metadata": {}
  },
  {
   "cell_type": "code",
   "execution_count": 27,
   "source": [
    "def isQueueFull():\r\n",
    "    global size, queue, front, rear\r\n",
    "    if rear == size-1:\r\n",
    "        return True\r\n",
    "    else:\r\n",
    "        return False"
   ],
   "outputs": [],
   "metadata": {}
  },
  {
   "cell_type": "code",
   "execution_count": 28,
   "source": [
    "def enQueueFull(data):\r\n",
    "    global size, queue,front, rear\r\n",
    "    if isQueueFull():\r\n",
    "        print('큐가 꽉 찼습니다.')\r\n",
    "        return\r\n",
    "    rear +=1\r\n",
    "    queue[rear] = data"
   ],
   "outputs": [],
   "metadata": {}
  },
  {
   "cell_type": "code",
   "execution_count": 29,
   "source": [
    "queue = ['화사','솔라','문별','휘인', None]\r\n",
    "front = -1\r\n",
    "rear = 3"
   ],
   "outputs": [],
   "metadata": {}
  },
  {
   "cell_type": "code",
   "execution_count": 30,
   "source": [
    "enQueueFull('선미')\r\n",
    "queue"
   ],
   "outputs": [
    {
     "output_type": "execute_result",
     "data": {
      "text/plain": [
       "['화사', '솔라', '문별', '휘인', '선미']"
      ]
     },
     "metadata": {},
     "execution_count": 30
    }
   ],
   "metadata": {}
  },
  {
   "cell_type": "code",
   "execution_count": 31,
   "source": [
    "def isQueueEmpty():\r\n",
    "    global size, queue, front, rear\r\n",
    "    if front == rear:\r\n",
    "        return True\r\n",
    "    else:\r\n",
    "        return False"
   ],
   "outputs": [],
   "metadata": {}
  },
  {
   "cell_type": "code",
   "execution_count": 32,
   "source": [
    "def deQueue():\r\n",
    "    global size, queue, front, rear\r\n",
    "    if isQueueEmpty:\r\n",
    "        print('큐가 비었습니다.')\r\n",
    "        return\r\n",
    "    front += 1\r\n",
    "    data = queue[front]\r\n",
    "    queue[front] = None\r\n",
    "    return data"
   ],
   "outputs": [],
   "metadata": {}
  },
  {
   "cell_type": "code",
   "execution_count": 33,
   "source": [
    "def queuePeek():\r\n",
    "    global size, queue, front, rear\r\n",
    "    if isQueueEmpty():\r\n",
    "        print('큐가 비었습니다.')\r\n",
    "        return\r\n",
    "    return queue[front+1]"
   ],
   "outputs": [],
   "metadata": {}
  },
  {
   "cell_type": "markdown",
   "source": [
    "## 원형큐"
   ],
   "metadata": {}
  },
  {
   "cell_type": "code",
   "execution_count": null,
   "source": [
    "## 함수\r\n",
    "def isQueueFull() :\r\n",
    "    global SIZE, queue, front, rear\r\n",
    "    if ( (rear+1) % SIZE == front) :\r\n",
    "        return True\r\n",
    "    else :\r\n",
    "        return False\r\n",
    "\r\n",
    "def isQueueEmpty() :\r\n",
    "    global SIZE, queue, front, rear\r\n",
    "    if (front == rear) :\r\n",
    "        return True\r\n",
    "    else :\r\n",
    "        return False\r\n",
    "\r\n",
    "def enQueue(data) :\r\n",
    "    global SIZE, queue, front, rear\r\n",
    "    if(isQueueFull()) :\r\n",
    "        print('큐 꽉~')\r\n",
    "        return\r\n",
    "    rear = (rear + 1) % SIZE\r\n",
    "    queue[rear] = data\r\n",
    "\r\n",
    "def deQueue() :\r\n",
    "    global SIZE, queue, front, rear\r\n",
    "    if (isQueueEmpty()) :\r\n",
    "        print('큐 텅~')\r\n",
    "        return None\r\n",
    "    front = (front + 1) % SIZE\r\n",
    "    data = queue[front]\r\n",
    "    queue[front] = None\r\n",
    "    return data\r\n",
    "\r\n",
    "## 전역\r\n",
    "SIZE = 5\r\n",
    "queue = [None for _ in range(SIZE)]\r\n",
    "front = rear = 0\r\n",
    "\r\n",
    "## 메인\r\n",
    "enQueue('화사')\r\n",
    "enQueue('솔라')\r\n",
    "enQueue('문별')\r\n",
    "enQueue('휘인')\r\n",
    "print('<--', queue, '<--')\r\n",
    "enQueue('선미')\r\n",
    "print('<--', queue, '<--')\r\n",
    "#\r\n",
    "data = deQueue(); print('디큐 :', data)\r\n",
    "data = deQueue(); print('디큐 :', data)\r\n",
    "print('<--', queue, '<--')\r\n",
    "#\r\n",
    "enQueue('재남')\r\n",
    "print('<--', queue, '<--')\r\n",
    "enQueue('강아지')\r\n",
    "print('<--', queue, '<--')\r\n",
    "enQueue('냥이')\r\n",
    "print('<--', queue, '<--')"
   ],
   "outputs": [],
   "metadata": {}
  },
  {
   "cell_type": "markdown",
   "source": [
    "# 이진트리"
   ],
   "metadata": {}
  },
  {
   "cell_type": "code",
   "execution_count": 2,
   "source": [
    "class TreeNode():\r\n",
    "    def __init__(self):\r\n",
    "        self.left = None\r\n",
    "        self.right = None\r\n",
    "        self.data = None\r\n",
    "        "
   ],
   "outputs": [],
   "metadata": {}
  },
  {
   "cell_type": "code",
   "execution_count": 3,
   "source": [
    "node1 = TreeNode()\r\n",
    "node1.data = '화사'\r\n",
    "\r\n",
    "node2 = TreeNode()\r\n",
    "node1.left = node2\r\n",
    "node2.data = '솔라'\r\n",
    "\r\n",
    "node3 = TreeNode()\r\n",
    "node3.data = '문별'\r\n",
    "node1.right = node3\r\n",
    "\r\n",
    "node4 = TreeNode()\r\n",
    "node4.data = '휘인'\r\n",
    "node2.left = node4\r\n",
    "\r\n",
    "node5 = TreeNode()\r\n",
    "node5.data = '정연'\r\n",
    "node2.right = node5\r\n",
    "\r\n",
    "node6 = TreeNode()\r\n",
    "node6.data = '쯔위'\r\n",
    "node3.left = node6\r\n",
    "\r\n",
    "print(node1.data, end=' ')\r\n",
    "print()\r\n",
    "print(node1.left.data, node1.right.data, end=' ')\r\n",
    "print()\r\n",
    "print(node1.left.left.data, node1.left.right.data, node1.right.left.data, end=' ')\r\n"
   ],
   "outputs": [
    {
     "output_type": "stream",
     "name": "stdout",
     "text": [
      "화사 \n",
      "솔라 문별 \n",
      "휘인 정연 쯔위 "
     ]
    }
   ],
   "metadata": {}
  },
  {
   "cell_type": "code",
   "execution_count": 4,
   "source": [
    "# 이진 트리\r\n",
    "def preorder(node):\r\n",
    "    if node == None:\r\n",
    "        return\r\n",
    "    print(node.data, end=' ')\r\n",
    "    preorder(node.left)\r\n",
    "    preorder(node.right)\r\n",
    "\r\n",
    "def inorder(node):\r\n",
    "    if node == None:\r\n",
    "        return\r\n",
    "    inorder(node.left)\r\n",
    "    print(node.data, end=' ')\r\n",
    "    inorder(node.right)\r\n",
    "\r\n",
    "def postorder(node):\r\n",
    "    if node == None:\r\n",
    "        return\r\n",
    "    postorder(node.left)\r\n",
    "    postorder(node.right)\r\n",
    "    print(node.data, end=' ')\r\n",
    "    "
   ],
   "outputs": [],
   "metadata": {}
  },
  {
   "cell_type": "code",
   "execution_count": 6,
   "source": [
    "print('전위순회:', end=' ')\r\n",
    "preorder(node1)\r\n",
    "print('끝')\r\n",
    "\r\n",
    "print('중위순회:',end=' ')\r\n",
    "inorder(node1)\r\n",
    "print('끝')\r\n",
    "\r\n",
    "print('후위순회:',end=' ')\r\n",
    "postorder(node1)\r\n",
    "print('끝')"
   ],
   "outputs": [
    {
     "output_type": "stream",
     "name": "stdout",
     "text": [
      "전위순회: 화사 솔라 휘인 정연 문별 쯔위 끝\n",
      "중위순회: 휘인 솔라 정연 화사 쯔위 문별 끝\n",
      "후위순회: 휘인 정연 솔라 쯔위 문별 화사 끝\n"
     ]
    }
   ],
   "metadata": {}
  },
  {
   "cell_type": "markdown",
   "source": [
    "### 이진 탐색 트리의 생성"
   ],
   "metadata": {}
  },
  {
   "cell_type": "code",
   "execution_count": 5,
   "source": [
    "memory = []\r\n",
    "root = None\r\n",
    "nameArr = ['블랙핑크','에이핑크','이달의 소녀','트와이스','마마무','레드벨벳']\r\n",
    "\r\n",
    "node = TreeNode()\r\n",
    "node.data = nameArr[0]\r\n",
    "root = node\r\n",
    "memory.append(node)"
   ],
   "outputs": [],
   "metadata": {}
  },
  {
   "cell_type": "code",
   "execution_count": 6,
   "source": [
    "for name in nameArr[1:]:\r\n",
    "    node = TreeNode()\r\n",
    "    node.data = name\r\n",
    "    current = root\r\n",
    "    while True:\r\n",
    "        if name < current.data:\r\n",
    "            if current.left == None:\r\n",
    "                current.left = node\r\n",
    "                break\r\n",
    "            current = current.left\r\n",
    "        else:\r\n",
    "            if current.right == None:\r\n",
    "                current.right = node\r\n",
    "                break\r\n",
    "            current = current.right\r\n",
    "\r\n",
    "    memory.append(node)\r\n",
    "\r\n",
    "print('이진 탐색 트리 구성 완료')"
   ],
   "outputs": [
    {
     "output_type": "stream",
     "name": "stdout",
     "text": [
      "이진 탐색 트리 구성 완료\n"
     ]
    }
   ],
   "metadata": {}
  },
  {
   "cell_type": "code",
   "execution_count": 8,
   "source": [
    "preorder(root)"
   ],
   "outputs": [
    {
     "output_type": "stream",
     "name": "stdout",
     "text": [
      "블랙핑크 마마무 레드벨벳 에이핑크 이달의 소녀 트와이스 "
     ]
    }
   ],
   "metadata": {}
  },
  {
   "cell_type": "code",
   "execution_count": 9,
   "source": [
    "findData = '마마무'\r\n",
    "\r\n",
    "current = root\r\n",
    "while True:\r\n",
    "    if current.data == findData:\r\n",
    "        print(findData,'찾았음')\r\n",
    "        break\r\n",
    "    elif findData < current.data:\r\n",
    "        if current.left == None:\r\n",
    "            print(findData,'없다')\r\n",
    "            break\r\n",
    "        current = current.left\r\n",
    "    else:\r\n",
    "        if current.right == None:\r\n",
    "            print(findData,'없다')\r\n",
    "            break\r\n",
    "        current = current.right\r\n"
   ],
   "outputs": [
    {
     "output_type": "stream",
     "name": "stdout",
     "text": [
      "마마무 찾았음\n"
     ]
    }
   ],
   "metadata": {}
  },
  {
   "cell_type": "markdown",
   "source": [
    "# 그래프\r\n",
    "- 2차원 행렬로 구현"
   ],
   "metadata": {}
  },
  {
   "cell_type": "code",
   "execution_count": 11,
   "source": [
    "class Graph():\r\n",
    "    def __init__(self, size):\r\n",
    "        self.SIZE = size\r\n",
    "        self.graph = [[0 for _ in range(size)] for _ in range(size)]\r\n"
   ],
   "outputs": [],
   "metadata": {}
  },
  {
   "cell_type": "code",
   "execution_count": 12,
   "source": [
    "G1 = None"
   ],
   "outputs": [],
   "metadata": {}
  },
  {
   "cell_type": "code",
   "execution_count": 15,
   "source": [
    "G1= Graph(4)"
   ],
   "outputs": [],
   "metadata": {}
  },
  {
   "cell_type": "code",
   "execution_count": 14,
   "source": [
    "A,B,C,D = 0,1,2,3"
   ],
   "outputs": [],
   "metadata": {}
  },
  {
   "cell_type": "code",
   "execution_count": 16,
   "source": [
    "G1.graph[A][B] = 1\r\n",
    "G1.graph[A][C] =1\r\n",
    "G1.graph[A][D] =1\r\n",
    "G1.graph[B][A] =1\r\n",
    "G1.graph[B][C] =1\r\n",
    "G1.graph[C][A] =1\r\n",
    "G1.graph[C][B] =1\r\n",
    "G1.graph[C][D] =1\r\n",
    "G1.graph[D][A] =1\r\n",
    "G1.graph[D][C] =1"
   ],
   "outputs": [],
   "metadata": {}
  },
  {
   "cell_type": "code",
   "execution_count": 17,
   "source": [
    "G1.graph"
   ],
   "outputs": [
    {
     "output_type": "execute_result",
     "data": {
      "text/plain": [
       "[[0, 1, 1, 1], [1, 0, 1, 0], [1, 1, 0, 1], [1, 0, 1, 0]]"
      ]
     },
     "metadata": {},
     "execution_count": 17
    }
   ],
   "metadata": {}
  },
  {
   "cell_type": "code",
   "execution_count": 18,
   "source": [
    "for row in range(4):\r\n",
    "    for col in range(4):\r\n",
    "        print(G1.graph[row][col], end=' ')\r\n",
    "    print()"
   ],
   "outputs": [
    {
     "output_type": "stream",
     "name": "stdout",
     "text": [
      "0 1 1 1 \n",
      "1 0 1 0 \n",
      "1 1 0 1 \n",
      "1 0 1 0 \n"
     ]
    }
   ],
   "metadata": {}
  },
  {
   "cell_type": "markdown",
   "source": [
    "# 정렬"
   ],
   "metadata": {}
  },
  {
   "cell_type": "markdown",
   "source": [
    "## 선택정렬"
   ],
   "metadata": {}
  },
  {
   "cell_type": "code",
   "execution_count": 24,
   "source": [
    "def findMinIndex(arr):\r\n",
    "    minIndex = 0\r\n",
    "    for i in range(1,len(arr)):\r\n",
    "        if arr[minIndex] > arr[i]:\r\n",
    "            minIndex = i\r\n",
    "    return minIndex\r\n"
   ],
   "outputs": [],
   "metadata": {}
  },
  {
   "cell_type": "code",
   "execution_count": 25,
   "source": [
    "testArr = [55, 88, 33, 77]\r\n",
    "minPos = findMinIndex(testArr)\r\n",
    "print('최솟값>', testArr[minPos])"
   ],
   "outputs": [
    {
     "output_type": "stream",
     "name": "stdout",
     "text": [
      "최솟값> 33\n"
     ]
    }
   ],
   "metadata": {}
  },
  {
   "cell_type": "code",
   "execution_count": 26,
   "source": [
    "# 함수 선언부\r\n",
    "import random\r\n",
    "random.seed(2021)"
   ],
   "outputs": [],
   "metadata": {}
  },
  {
   "cell_type": "code",
   "execution_count": 27,
   "source": [
    "# 전역 변수부\r\n",
    "before = [random.randint(33,198) for _ in range(28)]\r\n",
    "after = []"
   ],
   "outputs": [],
   "metadata": {}
  },
  {
   "cell_type": "code",
   "execution_count": 28,
   "source": [
    "# 메인 코드부\r\n",
    "print('정렬 전 -->', before)\r\n",
    "size = len(before)\r\n",
    "for i in range(size):\r\n",
    "    minindex = findMinIndex(before)\r\n",
    "    after.append(before[minindex])\r\n",
    "    del before[minindex]\r\n",
    "    \r\n",
    "print('정렬 후-->', after)"
   ],
   "outputs": [
    {
     "output_type": "stream",
     "name": "stdout",
     "text": [
      "정렬 전 --> [136, 194, 172, 103, 96, 195, 41, 146, 154, 180, 49, 113, 102, 108, 154, 52, 74, 75, 46, 59, 173, 108, 46, 169, 152, 62, 84, 187]\n",
      "정렬 후--> [41, 46, 46, 49, 52, 59, 62, 74, 75, 84, 96, 102, 103, 108, 108, 113, 136, 146, 152, 154, 154, 169, 172, 173, 180, 187, 194, 195]\n"
     ]
    }
   ],
   "metadata": {}
  },
  {
   "cell_type": "markdown",
   "source": [
    "## 기본 정렬 알고리즘"
   ],
   "metadata": {}
  },
  {
   "cell_type": "code",
   "execution_count": 33,
   "source": [
    "def selectionSort(ary):\r\n",
    "    n = len(ary)\r\n",
    "    for i in range(0,n-1):\r\n",
    "        minindex = i\r\n",
    "        for k in range(i+1,n):\r\n",
    "            if ary[minindex] > ary[k]:\r\n",
    "                minindex = k\r\n",
    "        ary[i], ary[minindex] = ary[minindex], ary[i]\r\n",
    "    return ary"
   ],
   "outputs": [],
   "metadata": {}
  },
  {
   "cell_type": "code",
   "execution_count": 29,
   "source": [
    "import random"
   ],
   "outputs": [],
   "metadata": {}
  },
  {
   "cell_type": "code",
   "execution_count": 30,
   "source": [
    "dataAry = [random.randint(33,198) for _ in range(28)]\r\n"
   ],
   "outputs": [],
   "metadata": {}
  },
  {
   "cell_type": "code",
   "execution_count": 32,
   "source": [
    "print('정렬 전 -->',dataAry)\r\n",
    "dataAry = selectionSort(dataAry)\r\n",
    "print('정렬 후-->',dataAry)"
   ],
   "outputs": [
    {
     "output_type": "stream",
     "name": "stdout",
     "text": [
      "정렬 전 --> [195, 145, 196, 104, 167, 119, 128, 134, 61, 89, 95, 151, 146, 153, 62, 198, 171, 89, 151, 154, 105, 67, 104, 34, 38, 170, 91, 82]\n",
      "정렬 후--> [34, 38, 61, 62, 67, 82, 89, 89, 91, 95, 104, 104, 105, 119, 128, 134, 145, 146, 151, 151, 153, 154, 167, 170, 171, 195, 196, 198]\n"
     ]
    }
   ],
   "metadata": {}
  },
  {
   "cell_type": "markdown",
   "source": [
    "# 재귀호출"
   ],
   "metadata": {}
  },
  {
   "cell_type": "code",
   "execution_count": null,
   "source": [],
   "outputs": [],
   "metadata": {}
  }
 ],
 "metadata": {
  "orig_nbformat": 4,
  "language_info": {
   "name": "python",
   "version": "3.8.10",
   "mimetype": "text/x-python",
   "codemirror_mode": {
    "name": "ipython",
    "version": 3
   },
   "pygments_lexer": "ipython3",
   "nbconvert_exporter": "python",
   "file_extension": ".py"
  },
  "kernelspec": {
   "name": "python3",
   "display_name": "Python 3.8.10 64-bit ('base': conda)"
  },
  "interpreter": {
   "hash": "acbbfebbbdf654efa85aa18169a14b54796a806b8c18a3c243660030e08aa454"
  }
 },
 "nbformat": 4,
 "nbformat_minor": 2
}