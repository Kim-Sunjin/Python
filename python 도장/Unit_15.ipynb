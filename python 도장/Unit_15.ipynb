{
 "cells": [
  {
   "cell_type": "markdown",
   "source": [
    "# Unit 15. elif를 사용하여 여러 방향으로 분기하기"
   ],
   "metadata": {}
  },
  {
   "cell_type": "code",
   "execution_count": null,
   "source": [
    "x=20\r\n",
    "if x==10:\r\n",
    "    print('It is 10.')\r\n",
    "elif x==20:\r\n",
    "    print('It is 20.')\r\n",
    "else:\r\n",
    "    print('It is not 10, 20')"
   ],
   "outputs": [],
   "metadata": {}
  },
  {
   "cell_type": "code",
   "execution_count": 2,
   "source": [
    "# 숫자- 입력, 3의 배수면 Fizz 출력, 5의 배수면 Buzz, 15의 배수면 Fizzbuzz\r\n",
    "number = int(input())\r\n",
    "if number % 15 == 0: # 제일 엄격한 조건을 앞에 두기\r\n",
    "    print('Fizzbuzz')\r\n",
    "elif number % 5 ==0:\r\n",
    "    print('Buzz')\r\n",
    "elif number % 3 ==0:\r\n",
    "    print('Fizz')\r\n",
    "else:\r\n",
    "    print('이 수는 3, 5, 15의 배수가 아닙니다.')"
   ],
   "outputs": [
    {
     "output_type": "stream",
     "name": "stdout",
     "text": [
      "fizzbuzz\n"
     ]
    }
   ],
   "metadata": {}
  },
  {
   "cell_type": "code",
   "execution_count": 3,
   "source": [
    "print('Fizz'*(number%3==0) + 'Buzz'*(number%5==0) or number)"
   ],
   "outputs": [
    {
     "output_type": "stream",
     "name": "stdout",
     "text": [
      "FizzBuzz\n"
     ]
    }
   ],
   "metadata": {}
  },
  {
   "cell_type": "code",
   "execution_count": null,
   "source": [],
   "outputs": [],
   "metadata": {}
  }
 ],
 "metadata": {
  "orig_nbformat": 4,
  "language_info": {
   "name": "python",
   "version": "3.8.10",
   "mimetype": "text/x-python",
   "codemirror_mode": {
    "name": "ipython",
    "version": 3
   },
   "pygments_lexer": "ipython3",
   "nbconvert_exporter": "python",
   "file_extension": ".py"
  },
  "kernelspec": {
   "name": "python3",
   "display_name": "Python 3.8.10 64-bit ('base': conda)"
  },
  "interpreter": {
   "hash": "acbbfebbbdf654efa85aa18169a14b54796a806b8c18a3c243660030e08aa454"
  }
 },
 "nbformat": 4,
 "nbformat_minor": 2
}