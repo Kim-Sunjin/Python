{
 "cells": [
  {
   "cell_type": "markdown",
   "source": [
    "# Unit 38. 예외 처리"
   ],
   "metadata": {}
  },
  {
   "cell_type": "markdown",
   "source": [
    "## 38.1 try except"
   ],
   "metadata": {}
  },
  {
   "cell_type": "code",
   "execution_count": 1,
   "source": [
    "def ten_div(x):\r\n",
    "    return 10/x\r\n"
   ],
   "outputs": [],
   "metadata": {}
  },
  {
   "cell_type": "code",
   "execution_count": 2,
   "source": [
    "a= [1,2,3]\r\n",
    "try:\r\n",
    "    a[4]\r\n",
    "except:\r\n",
    "    print('예외 발생')"
   ],
   "outputs": [
    {
     "output_type": "stream",
     "name": "stdout",
     "text": [
      "예외 발생\n"
     ]
    }
   ],
   "metadata": {}
  },
  {
   "cell_type": "code",
   "execution_count": 3,
   "source": [
    "try:\r\n",
    "    int('10d')\r\n",
    "except ZeroDivisionError:\r\n",
    "    print('0으로 나눌 수 없습니다.')\r\n",
    "except IndexError:\r\n",
    "    print('Index Error 발생')\r\n",
    "except ValueError:\r\n",
    "    print('Value Error 발생')"
   ],
   "outputs": [
    {
     "output_type": "stream",
     "name": "stdout",
     "text": [
      "Value Error 발생\n"
     ]
    }
   ],
   "metadata": {}
  },
  {
   "cell_type": "markdown",
   "source": [
    "### 예외의 에러 메세지 받아오기"
   ],
   "metadata": {}
  },
  {
   "cell_type": "code",
   "execution_count": 4,
   "source": [
    "try:\r\n",
    "    int('10d')\r\n",
    "except Exception as e:\r\n",
    "    print(e)"
   ],
   "outputs": [
    {
     "output_type": "stream",
     "name": "stdout",
     "text": [
      "invalid literal for int() with base 10: '10d'\n"
     ]
    }
   ],
   "metadata": {}
  },
  {
   "cell_type": "markdown",
   "source": [
    "## 38.2 else, finally"
   ],
   "metadata": {}
  },
  {
   "cell_type": "code",
   "execution_count": 5,
   "source": [
    "try:\r\n",
    "    x= int(input('나눌 숫자를 입력하세요: '))\r\n",
    "    y = 10/x\r\n",
    "except ZeroDivisionError:\r\n",
    "    print('숫자를 0으로 나눌 수 없습니다.')\r\n",
    "else:\r\n",
    "    print(y)"
   ],
   "outputs": [
    {
     "output_type": "stream",
     "name": "stdout",
     "text": [
      "2.0\n"
     ]
    }
   ],
   "metadata": {}
  },
  {
   "cell_type": "code",
   "execution_count": 7,
   "source": [
    "# 예외와 상관없이 항상 실행\r\n",
    "try:\r\n",
    "    x= int(input('나눌 숫자를 입력하세요: '))\r\n",
    "    y = 10/x\r\n",
    "except ZeroDivisionError:\r\n",
    "    print('숫자를 0으로 나눌 수 없습니다.')\r\n",
    "else:\r\n",
    "    print(y)\r\n",
    "finally:\r\n",
    "    print('코드 실행 종료')"
   ],
   "outputs": [
    {
     "output_type": "stream",
     "name": "stdout",
     "text": [
      "5.0\n",
      "코드 실행 종료\n"
     ]
    }
   ],
   "metadata": {}
  },
  {
   "cell_type": "markdown",
   "source": [
    "- try는 함수가 아니므로 스택프레임을 만들지않음. 따라서 try 안에서 변수를 만들더라도 try 바깥에서 사용할 수 있음"
   ],
   "metadata": {}
  },
  {
   "cell_type": "markdown",
   "source": [
    "## 38.3 예외 발생시키기"
   ],
   "metadata": {}
  },
  {
   "cell_type": "code",
   "execution_count": 6,
   "source": [
    "try:\r\n",
    "    x = int(input())\r\n",
    "    if x % 3 != 0:\r\n",
    "        raise Exception('3의 배수가 아닙니다.')\r\n",
    "    print(x)\r\n",
    "except Exception as e:\r\n",
    "    print('예외가 발생했습니다.',e)\r\n",
    "    "
   ],
   "outputs": [
    {
     "output_type": "stream",
     "name": "stdout",
     "text": [
      "예외가 발생했습니다. 3의 배수가 아닙니다.\n"
     ]
    }
   ],
   "metadata": {}
  },
  {
   "cell_type": "code",
   "execution_count": 8,
   "source": [
    "import random\r\n",
    "try:\r\n",
    "    x = random.randint(1,10)\r\n",
    "    if x % 3 != 0:\r\n",
    "        raise Exception('3의 배수가 아닙니다.')\r\n",
    "    print(x)\r\n",
    "except Exception as e:\r\n",
    "    print('예외 발생',e)"
   ],
   "outputs": [
    {
     "output_type": "stream",
     "name": "stdout",
     "text": [
      "예외 발생 3의 배수가 아닙니다.\n"
     ]
    }
   ],
   "metadata": {}
  },
  {
   "cell_type": "code",
   "execution_count": 9,
   "source": [
    "def multiple(x):\r\n",
    "    if x%11 !=0:\r\n",
    "        raise Exception('11의 배수가 아닙니다.')\r\n",
    "    print(x)"
   ],
   "outputs": [],
   "metadata": {}
  },
  {
   "cell_type": "code",
   "execution_count": 11,
   "source": [
    "try:\r\n",
    "    multiple(100)\r\n",
    "except Exception as e:\r\n",
    "    print('예외 발생-', e)"
   ],
   "outputs": [
    {
     "output_type": "stream",
     "name": "stdout",
     "text": [
      "예외 발생- 11의 배수가 아닙니다.\n"
     ]
    }
   ],
   "metadata": {}
  },
  {
   "cell_type": "code",
   "execution_count": null,
   "source": [],
   "outputs": [],
   "metadata": {}
  }
 ],
 "metadata": {
  "orig_nbformat": 4,
  "language_info": {
   "name": "python",
   "version": "3.8.10",
   "mimetype": "text/x-python",
   "codemirror_mode": {
    "name": "ipython",
    "version": 3
   },
   "pygments_lexer": "ipython3",
   "nbconvert_exporter": "python",
   "file_extension": ".py"
  },
  "kernelspec": {
   "name": "python3",
   "display_name": "Python 3.8.10 64-bit ('base': conda)"
  },
  "interpreter": {
   "hash": "acbbfebbbdf654efa85aa18169a14b54796a806b8c18a3c243660030e08aa454"
  }
 },
 "nbformat": 4,
 "nbformat_minor": 2
}