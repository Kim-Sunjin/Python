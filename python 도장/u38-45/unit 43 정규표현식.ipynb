{
 "cells": [
  {
   "cell_type": "markdown",
   "source": [
    "# Unit 43. 정규표현식"
   ],
   "metadata": {}
  },
  {
   "cell_type": "code",
   "execution_count": 1,
   "source": [
    "import re\r\n",
    "re.match('Hello', 'Hello, world!')"
   ],
   "outputs": [
    {
     "output_type": "execute_result",
     "data": {
      "text/plain": [
       "<re.Match object; span=(0, 5), match='Hello'>"
      ]
     },
     "metadata": {},
     "execution_count": 1
    }
   ],
   "metadata": {}
  },
  {
   "cell_type": "code",
   "execution_count": 2,
   "source": [
    "z = re.match('Hello', 'Hello, world!')\r\n",
    "if z:\r\n",
    "    print('Found')\r\n",
    "else:\r\n",
    "    print('Not found')"
   ],
   "outputs": [
    {
     "output_type": "stream",
     "name": "stdout",
     "text": [
      "Found\n"
     ]
    }
   ],
   "metadata": {}
  },
  {
   "cell_type": "code",
   "execution_count": 5,
   "source": [
    "z = re.match('world', 'Hello, world!')\r\n",
    "if z:\r\n",
    "    print('Found')\r\n",
    "else:\r\n",
    "    print('Not found')"
   ],
   "outputs": [
    {
     "output_type": "stream",
     "name": "stdout",
     "text": [
      "Not found\n"
     ]
    }
   ],
   "metadata": {}
  },
  {
   "cell_type": "code",
   "execution_count": 4,
   "source": [
    "z = re.search('world', 'Hello, world!')\r\n",
    "if z:\r\n",
    "    print('Found')\r\n",
    "else:\r\n",
    "    print('Not found')"
   ],
   "outputs": [
    {
     "output_type": "stream",
     "name": "stdout",
     "text": [
      "Found\n"
     ]
    }
   ],
   "metadata": {}
  },
  {
   "cell_type": "markdown",
   "source": [
    "## 43.2 범위 판단"
   ],
   "metadata": {}
  },
  {
   "cell_type": "code",
   "execution_count": 6,
   "source": [
    "# 휴대전화 번호형식\r\n",
    "pattern = '01[0-9]-[0-9]{4}-[0-9]{4}'\r\n",
    "text = '010-1234-5678'\r\n",
    "if re.match(pattern,text):\r\n",
    "    print('Correct number')\r\n",
    "else:\r\n",
    "    print('Wrong number')"
   ],
   "outputs": [
    {
     "output_type": "stream",
     "name": "stdout",
     "text": [
      "Correct number\n"
     ]
    }
   ],
   "metadata": {}
  },
  {
   "cell_type": "code",
   "execution_count": 7,
   "source": [
    "# 한글 패턴\r\n",
    "hangul = '[ㄱ-ㅎ ㅏ-ㅣ 가-힣]'\r\n",
    "text = '홍길동'\r\n",
    "if re.match(hangul,text):\r\n",
    "    print('한글이 있음')\r\n",
    "else:\r\n",
    "    print('한글이 없음')"
   ],
   "outputs": [
    {
     "output_type": "stream",
     "name": "stdout",
     "text": [
      "한글이 있음\n"
     ]
    }
   ],
   "metadata": {}
  },
  {
   "cell_type": "markdown",
   "source": [
    "## 43.4 문자열 바꾸기"
   ],
   "metadata": {}
  },
  {
   "cell_type": "code",
   "execution_count": 8,
   "source": [
    "# re.sub('패턴','바꿀 문자열','문자열')\r\n",
    "re.sub('apple|orange','fruit','apple and orange taste good')"
   ],
   "outputs": [
    {
     "output_type": "execute_result",
     "data": {
      "text/plain": [
       "'fruit and fruit taste good'"
      ]
     },
     "metadata": {},
     "execution_count": 8
    }
   ],
   "metadata": {}
  },
  {
   "cell_type": "code",
   "execution_count": 9,
   "source": [
    "not_hangul='[^ㄱ-ㅎ ㅏ-ㅣ 가-힣]'\r\n",
    "text = '''\r\n",
    "앞에서 특정 문자열로 시작하는지 판단할 때도 ^를 사용했었는데 문법이 비슷해서 이 부분은 헷갈리기 쉽습니다. 범위를 제외할 때는 '[^A-Z]+'와 같이 [ ] 안에 넣어주고, 특정 문자 범위로 시작할 때는 '^[A-Z]+'와 같이 [ ] 앞에 붙여줍니다. 그래서 다음과 같이 '^[A-Z]+'는 영문 대문자로 시작하는지 판단합니다.\r\n",
    "'''\r\n",
    "re.sub(not_hangul, '', text)"
   ],
   "outputs": [
    {
     "output_type": "execute_result",
     "data": {
      "text/plain": [
       "'앞에서 특정 문자열로 시작하는지 판단할 때도 를 사용했었는데 문법이 비슷해서 이 부분은 헷갈리기 쉽습니다 범위를 제외할 때는 와 같이   안에 넣어주고 특정 문자 범위로 시작할 때는 와 같이   앞에 붙여줍니다 그래서 다음과 같이 는 영문 대문자로 시작하는지 판단합니다'"
      ]
     },
     "metadata": {},
     "execution_count": 9
    }
   ],
   "metadata": {}
  },
  {
   "cell_type": "markdown",
   "source": [
    "### 이메일 주소 검사하기"
   ],
   "metadata": {}
  },
  {
   "cell_type": "code",
   "execution_count": null,
   "source": [
    "# p = re.compile('^[0-9a-zA-Z]([-_.]?[0-9a-zA-Z])*@[0-9a-zA-Z]([-_.]?[0-9a-zA-Z])*.[a-zA-Z]{2,3}$')\r\n",
    "p = re.compile('^[a-zA-Z0-9+-_.]+@[a-zA-Z0-9-]+\\.[a-zA-Z0-9-.]+$')"
   ],
   "outputs": [],
   "metadata": {}
  }
 ],
 "metadata": {
  "orig_nbformat": 4,
  "language_info": {
   "name": "python",
   "version": "3.8.10",
   "mimetype": "text/x-python",
   "codemirror_mode": {
    "name": "ipython",
    "version": 3
   },
   "pygments_lexer": "ipython3",
   "nbconvert_exporter": "python",
   "file_extension": ".py"
  },
  "kernelspec": {
   "name": "python3",
   "display_name": "Python 3.8.10 64-bit ('base': conda)"
  },
  "interpreter": {
   "hash": "acbbfebbbdf654efa85aa18169a14b54796a806b8c18a3c243660030e08aa454"
  }
 },
 "nbformat": 4,
 "nbformat_minor": 2
}