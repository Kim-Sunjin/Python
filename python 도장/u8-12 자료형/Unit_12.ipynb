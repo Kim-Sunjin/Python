{
  "nbformat": 4,
  "nbformat_minor": 0,
  "metadata": {
    "colab": {
      "name": "Unit. 12.ipynb",
      "provenance": [],
      "collapsed_sections": []
    },
    "kernelspec": {
      "name": "python3",
      "display_name": "Python 3"
    },
    "language_info": {
      "name": "python"
    }
  },
  "cells": [
    {
      "cell_type": "markdown",
      "metadata": {
        "id": "1uevGdR7Rqsr"
      },
      "source": [
        "# Unit 12. 딕셔너리(Dictionary)"
      ]
    },
    {
      "cell_type": "code",
      "metadata": {
        "colab": {
          "base_uri": "https://localhost:8080/"
        },
        "id": "BITbUnmmRoYr",
        "outputId": "79513b88-7b7a-40b3-88bf-e7a455f03b78"
      },
      "source": [
        "# 'key' : value \n",
        "lux = {\n",
        "    'health' : 490, \n",
        "    'mana' : 334,\n",
        "    'melee' : 550,\n",
        "    'armor' : 18.72\n",
        "}\n",
        "lux"
      ],
      "execution_count": 1,
      "outputs": [
        {
          "output_type": "execute_result",
          "data": {
            "text/plain": [
              "{'armor': 18.72, 'health': 490, 'maan': 334, 'melee': 550}"
            ]
          },
          "metadata": {
            "tags": []
          },
          "execution_count": 1
        }
      ]
    },
    {
      "cell_type": "markdown",
      "metadata": {
        "id": "WxYDelqSS23-"
      },
      "source": [
        "## Dictionary 생성"
      ]
    },
    {
      "cell_type": "code",
      "metadata": {
        "colab": {
          "base_uri": "https://localhost:8080/"
        },
        "id": "zuxHOf5KSj4E",
        "outputId": "c6ddff00-3aa7-41b1-e1d9-037925d154a7"
      },
      "source": [
        "# 메이플 스텟\n",
        "stat = {\n",
        "    'str' : 120,\n",
        "    'dex' : 20,\n",
        "    'int' : 10,\n",
        "    'lux' : 10\n",
        "}\n",
        "stat"
      ],
      "execution_count": 2,
      "outputs": [
        {
          "output_type": "execute_result",
          "data": {
            "text/plain": [
              "{'dex': 20, 'int': 10, 'lux': 10, 'str': 120}"
            ]
          },
          "metadata": {
            "tags": []
          },
          "execution_count": 2
        }
      ]
    },
    {
      "cell_type": "code",
      "metadata": {
        "colab": {
          "base_uri": "https://localhost:8080/"
        },
        "id": "kv1C6vSMTr9O",
        "outputId": "87029106-9921-488f-c69c-a21dace1136f"
      },
      "source": [
        "lux = {'health' : 800 ,'health' : 490, 'mana' : 334, 'melee' : 550, 'armor' : 18.72}\n",
        "lux['health']"
      ],
      "execution_count": 5,
      "outputs": [
        {
          "output_type": "execute_result",
          "data": {
            "text/plain": [
              "490"
            ]
          },
          "metadata": {
            "tags": []
          },
          "execution_count": 5
        }
      ]
    },
    {
      "cell_type": "code",
      "metadata": {
        "colab": {
          "base_uri": "https://localhost:8080/"
        },
        "id": "cZfKREnYT63t",
        "outputId": "936667b5-8bce-45de-e485-482a8c648dbc"
      },
      "source": [
        "fl = []\n",
        "for i in lux:\n",
        "  fl.append(i)\n",
        "fl"
      ],
      "execution_count": 9,
      "outputs": [
        {
          "output_type": "execute_result",
          "data": {
            "text/plain": [
              "['health', 'mana', 'melee', 'armor']"
            ]
          },
          "metadata": {
            "tags": []
          },
          "execution_count": 9
        }
      ]
    },
    {
      "cell_type": "code",
      "metadata": {
        "colab": {
          "base_uri": "https://localhost:8080/"
        },
        "id": "McH2tiJ1U2HM",
        "outputId": "a099eeb1-bbb3-4092-b1b0-9ef9fbbde0b5"
      },
      "source": [
        "a = {}\n",
        "b = dict()\n",
        "a, b"
      ],
      "execution_count": 10,
      "outputs": [
        {
          "output_type": "execute_result",
          "data": {
            "text/plain": [
              "({}, {})"
            ]
          },
          "metadata": {
            "tags": []
          },
          "execution_count": 10
        }
      ]
    },
    {
      "cell_type": "code",
      "metadata": {
        "colab": {
          "base_uri": "https://localhost:8080/"
        },
        "id": "5YAf-ZSzVH8u",
        "outputId": "d3f0598f-5e4a-405e-ce92-f8b80ab227f1"
      },
      "source": [
        "# dictionary와 모양이 같다. set은 set()을 이용하여 생성\n",
        "a = set((1,2,3))\n",
        "a"
      ],
      "execution_count": 12,
      "outputs": [
        {
          "output_type": "execute_result",
          "data": {
            "text/plain": [
              "{1, 2, 3}"
            ]
          },
          "metadata": {
            "tags": []
          },
          "execution_count": 12
        }
      ]
    },
    {
      "cell_type": "code",
      "metadata": {
        "colab": {
          "base_uri": "https://localhost:8080/"
        },
        "id": "VhjlplxZVKnE",
        "outputId": "84f04d7e-a38e-482e-a3b7-2baf62be6e14"
      },
      "source": [
        "# zip 두가지를 엮어준다?\n",
        "a = ['a','b','c','d']\n",
        "b = [1,2,3,4]\n",
        "dict(zip(a,b))"
      ],
      "execution_count": 13,
      "outputs": [
        {
          "output_type": "execute_result",
          "data": {
            "text/plain": [
              "{'a': 1, 'b': 2, 'c': 3, 'd': 4}"
            ]
          },
          "metadata": {
            "tags": []
          },
          "execution_count": 13
        }
      ]
    },
    {
      "cell_type": "markdown",
      "metadata": {
        "id": "Jdu8AaSBV6TT"
      },
      "source": [
        "## 12.2 딕셔너리의 키에 접근하고 값 할당하기"
      ]
    },
    {
      "cell_type": "code",
      "metadata": {
        "colab": {
          "base_uri": "https://localhost:8080/"
        },
        "id": "IvTwfacJVohE",
        "outputId": "8a8c509b-d77d-4e41-a0ab-50d4b57b32c4"
      },
      "source": [
        "lux = {'health' : 490, 'mana' : 334, 'melee' : 550, 'armor' : 18.72}\n",
        "lux['armor']\n",
        "lux"
      ],
      "execution_count": 16,
      "outputs": [
        {
          "output_type": "execute_result",
          "data": {
            "text/plain": [
              "{'armor': 18.72, 'health': 490, 'mana': 334, 'melee': 550}"
            ]
          },
          "metadata": {
            "tags": []
          },
          "execution_count": 16
        }
      ]
    },
    {
      "cell_type": "code",
      "metadata": {
        "colab": {
          "base_uri": "https://localhost:8080/"
        },
        "id": "gxBjNk8hWMTl",
        "outputId": "bcba241e-2ab9-480e-8130-50b4805e7f41"
      },
      "source": [
        "lux['health'] = 1000\n",
        "lux['mana'] = 500\n",
        "lux"
      ],
      "execution_count": 15,
      "outputs": [
        {
          "output_type": "execute_result",
          "data": {
            "text/plain": [
              "{'armor': 18.72, 'health': 1000, 'mana': 500, 'melee': 550}"
            ]
          },
          "metadata": {
            "tags": []
          },
          "execution_count": 15
        }
      ]
    },
    {
      "cell_type": "code",
      "metadata": {
        "colab": {
          "base_uri": "https://localhost:8080/"
        },
        "id": "gTAGoIsIWZsc",
        "outputId": "23ce5b85-c813-42ff-f36d-b296953ed4c3"
      },
      "source": [
        "# 키값이 기존 딕셔너리에 없으면 새롭게 추가\n",
        "lux['new stat'] = 10\n",
        "lux"
      ],
      "execution_count": 17,
      "outputs": [
        {
          "output_type": "execute_result",
          "data": {
            "text/plain": [
              "{'armor': 18.72, 'health': 490, 'mana': 334, 'melee': 550, 'new stat': 10}"
            ]
          },
          "metadata": {
            "tags": []
          },
          "execution_count": 17
        }
      ]
    },
    {
      "cell_type": "code",
      "metadata": {
        "colab": {
          "base_uri": "https://localhost:8080/"
        },
        "id": "_0-Af5pKXWm6",
        "outputId": "46332181-8200-49e6-bcda-4247cc75be53"
      },
      "source": [
        "'health' in lux"
      ],
      "execution_count": 18,
      "outputs": [
        {
          "output_type": "execute_result",
          "data": {
            "text/plain": [
              "True"
            ]
          },
          "metadata": {
            "tags": []
          },
          "execution_count": 18
        }
      ]
    },
    {
      "cell_type": "code",
      "metadata": {
        "colab": {
          "base_uri": "https://localhost:8080/"
        },
        "id": "2F92kyRuXeC8",
        "outputId": "621c1de6-e765-4746-a552-1ea91c2b1d0d"
      },
      "source": [
        "'health' not in lux"
      ],
      "execution_count": 19,
      "outputs": [
        {
          "output_type": "execute_result",
          "data": {
            "text/plain": [
              "False"
            ]
          },
          "metadata": {
            "tags": []
          },
          "execution_count": 19
        }
      ]
    },
    {
      "cell_type": "code",
      "metadata": {
        "colab": {
          "base_uri": "https://localhost:8080/"
        },
        "id": "PHJ6IAr5XkK0",
        "outputId": "6a2db923-f417-4f8b-f212-734fbbb35091"
      },
      "source": [
        "len(lux)"
      ],
      "execution_count": 20,
      "outputs": [
        {
          "output_type": "execute_result",
          "data": {
            "text/plain": [
              "5"
            ]
          },
          "metadata": {
            "tags": []
          },
          "execution_count": 20
        }
      ]
    },
    {
      "cell_type": "code",
      "metadata": {
        "colab": {
          "base_uri": "https://localhost:8080/"
        },
        "id": "JQbuZ8ulXni8",
        "outputId": "60387477-5f25-4583-a7e9-d404fb9a2cf7"
      },
      "source": [
        "lux2 = {'str' : 200}\n",
        "if 'dex' in lux2:\n",
        "  lux2['dex'] += 100\n",
        "else:\n",
        "  lux2['dex'] = 50\n",
        "lux2"
      ],
      "execution_count": 23,
      "outputs": [
        {
          "output_type": "execute_result",
          "data": {
            "text/plain": [
              "{'dex': 50, 'str': 200}"
            ]
          },
          "metadata": {
            "tags": []
          },
          "execution_count": 23
        }
      ]
    },
    {
      "cell_type": "markdown",
      "metadata": {
        "id": "L9wS2Tg-ZMMd"
      },
      "source": [
        "### 딕셔너리 키의 갯수"
      ]
    },
    {
      "cell_type": "code",
      "metadata": {
        "colab": {
          "base_uri": "https://localhost:8080/"
        },
        "id": "TwFk7FVaZTlj",
        "outputId": "f9e7530f-5331-44e4-923c-e2e5a901d953"
      },
      "source": [
        "lux, lux2"
      ],
      "execution_count": 25,
      "outputs": [
        {
          "output_type": "execute_result",
          "data": {
            "text/plain": [
              "({'armor': 18.72, 'health': 490, 'mana': 334, 'melee': 550, 'new stat': 10},\n",
              " {'dex': 50, 'str': 200})"
            ]
          },
          "metadata": {
            "tags": []
          },
          "execution_count": 25
        }
      ]
    },
    {
      "cell_type": "code",
      "metadata": {
        "colab": {
          "base_uri": "https://localhost:8080/"
        },
        "id": "vfqdRKKYY4ab",
        "outputId": "8b4dae23-f5f2-4d64-ffdb-cc7b234559ba"
      },
      "source": [
        "len(lux), len(lux2)"
      ],
      "execution_count": 26,
      "outputs": [
        {
          "output_type": "execute_result",
          "data": {
            "text/plain": [
              "(5, 2)"
            ]
          },
          "metadata": {
            "tags": []
          },
          "execution_count": 26
        }
      ]
    },
    {
      "cell_type": "code",
      "metadata": {
        "colab": {
          "base_uri": "https://localhost:8080/"
        },
        "id": "Bi7FyntnZRkC",
        "outputId": "901fca10-2677-45c4-c985-6611cc79e443"
      },
      "source": [
        "type(lux)"
      ],
      "execution_count": 27,
      "outputs": [
        {
          "output_type": "execute_result",
          "data": {
            "text/plain": [
              "dict"
            ]
          },
          "metadata": {
            "tags": []
          },
          "execution_count": 27
        }
      ]
    },
    {
      "cell_type": "code",
      "metadata": {
        "colab": {
          "base_uri": "https://localhost:8080/"
        },
        "id": "UWRuj0YgaCNS",
        "outputId": "0fa99774-1079-4ac7-831e-54671365262b"
      },
      "source": [
        "type(lux['armor'])"
      ],
      "execution_count": 28,
      "outputs": [
        {
          "output_type": "execute_result",
          "data": {
            "text/plain": [
              "float"
            ]
          },
          "metadata": {
            "tags": []
          },
          "execution_count": 28
        }
      ]
    },
    {
      "cell_type": "code",
      "metadata": {
        "colab": {
          "base_uri": "https://localhost:8080/"
        },
        "id": "omdX-Br9aE4q",
        "outputId": "99d13b73-5062-4182-d0ab-1620e44052a0"
      },
      "source": [
        "# dictionary은 시퀀스 객체가 아니기 때문에 반복을 사용못함, 다만 아래 key, value를 리스트 형식으로 뽑아서 사용가능\n",
        "lux.keys(), lux.items()"
      ],
      "execution_count": 31,
      "outputs": [
        {
          "output_type": "execute_result",
          "data": {
            "text/plain": [
              "(dict_keys(['health', 'mana', 'melee', 'armor', 'new stat']),\n",
              " dict_items([('health', 490), ('mana', 334), ('melee', 550), ('armor', 18.72), ('new stat', 10)]))"
            ]
          },
          "metadata": {
            "tags": []
          },
          "execution_count": 31
        }
      ]
    },
    {
      "cell_type": "markdown",
      "metadata": {
        "id": "H3ZJh-nvbuIF"
      },
      "source": [
        "### 딕셔너리 활용, 추후 진행할 과정"
      ]
    },
    {
      "cell_type": "code",
      "metadata": {
        "colab": {
          "base_uri": "https://localhost:8080/"
        },
        "id": "JQZ4tejsakl7",
        "outputId": "a6ec9bb4-3418-4090-d80f-8647089b067f"
      },
      "source": [
        "for key in lux.keys():\n",
        "  print(f'{key}:{lux[key]}')"
      ],
      "execution_count": 30,
      "outputs": [
        {
          "output_type": "stream",
          "text": [
            "health:490\n",
            "mana:334\n",
            "melee:550\n",
            "armor:18.72\n",
            "new stat:10\n"
          ],
          "name": "stdout"
        }
      ]
    },
    {
      "cell_type": "code",
      "metadata": {
        "id": "bl1PuVaqbFnF"
      },
      "source": [
        ""
      ],
      "execution_count": null,
      "outputs": []
    }
  ]
}