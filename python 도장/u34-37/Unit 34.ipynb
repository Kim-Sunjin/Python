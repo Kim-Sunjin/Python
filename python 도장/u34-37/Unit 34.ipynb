{
 "cells": [
  {
   "cell_type": "markdown",
   "source": [
    "# Unit 34. 클래스"
   ],
   "metadata": {}
  },
  {
   "cell_type": "markdown",
   "source": [
    "#### 객체 지향 vs 절차 지향\r\n",
    "- 절차 지향은 프로그램 마다 사용할 변수, 행동를 지정? 프로그램이 많으면 복잡\r\n",
    "- 객체 지향은 속성을 가진 객체를 설정하고 이를 조합하여 프로그램 설계? methd(객체가 할 수 있는 행동?)"
   ],
   "metadata": {}
  },
  {
   "cell_type": "markdown",
   "source": [
    "## 34.1 클래스, 메서드 만들기"
   ],
   "metadata": {}
  },
  {
   "cell_type": "code",
   "execution_count": 2,
   "source": [
    "class Person:\r\n",
    "    def greeting(self):\r\n",
    "        print('Hello')"
   ],
   "outputs": [],
   "metadata": {}
  },
  {
   "cell_type": "code",
   "execution_count": 3,
   "source": [
    "james = Person()\r\n",
    "james.greeting()"
   ],
   "outputs": [
    {
     "output_type": "stream",
     "name": "stdout",
     "text": [
      "Hello\n"
     ]
    }
   ],
   "metadata": {}
  },
  {
   "cell_type": "code",
   "execution_count": 4,
   "source": [
    "maria = Person()\r\n",
    "maria.greeting()"
   ],
   "outputs": [
    {
     "output_type": "stream",
     "name": "stdout",
     "text": [
      "Hello\n"
     ]
    }
   ],
   "metadata": {}
  },
  {
   "cell_type": "code",
   "execution_count": 5,
   "source": [
    "Person().greeting()"
   ],
   "outputs": [
    {
     "output_type": "stream",
     "name": "stdout",
     "text": [
      "Hello\n"
     ]
    }
   ],
   "metadata": {}
  },
  {
   "cell_type": "code",
   "execution_count": 7,
   "source": [
    "a = 10\r\n",
    "type(a)"
   ],
   "outputs": [
    {
     "output_type": "execute_result",
     "data": {
      "text/plain": [
       "int"
      ]
     },
     "metadata": {},
     "execution_count": 7
    }
   ],
   "metadata": {}
  },
  {
   "cell_type": "code",
   "execution_count": 8,
   "source": [
    "b = [0,2,4]\r\n",
    "type(b)"
   ],
   "outputs": [
    {
     "output_type": "execute_result",
     "data": {
      "text/plain": [
       "list"
      ]
     },
     "metadata": {},
     "execution_count": 8
    }
   ],
   "metadata": {}
  },
  {
   "cell_type": "code",
   "execution_count": 9,
   "source": [
    "type(maria)"
   ],
   "outputs": [
    {
     "output_type": "execute_result",
     "data": {
      "text/plain": [
       "__main__.Person"
      ]
     },
     "metadata": {},
     "execution_count": 9
    }
   ],
   "metadata": {}
  },
  {
   "cell_type": "code",
   "execution_count": 10,
   "source": [
    "# 클래스 내에서 메서드 호출하기\r\n",
    "class Person:\r\n",
    "    def greeting(self):\r\n",
    "        print('Hello')\r\n",
    "    def hello(self):\r\n",
    "        self.greeting()"
   ],
   "outputs": [],
   "metadata": {}
  },
  {
   "cell_type": "code",
   "execution_count": 11,
   "source": [
    "james = Person()\r\n",
    "james.hello()"
   ],
   "outputs": [
    {
     "output_type": "stream",
     "name": "stdout",
     "text": [
      "Hello\n"
     ]
    }
   ],
   "metadata": {}
  },
  {
   "cell_type": "code",
   "execution_count": 12,
   "source": [
    "isinstance(james,Person)"
   ],
   "outputs": [
    {
     "output_type": "execute_result",
     "data": {
      "text/plain": [
       "True"
      ]
     },
     "metadata": {},
     "execution_count": 12
    }
   ],
   "metadata": {}
  },
  {
   "cell_type": "code",
   "execution_count": 13,
   "source": [
    "def factorial(n):\r\n",
    "    if not isinstance(n, int) or n<0:\r\n",
    "        return None\r\n",
    "    if n == 0:\r\n",
    "        return 1\r\n",
    "    return n*factorial(n-1)\r\n"
   ],
   "outputs": [],
   "metadata": {}
  },
  {
   "cell_type": "code",
   "execution_count": 14,
   "source": [
    "factorial(3.14)"
   ],
   "outputs": [],
   "metadata": {}
  },
  {
   "cell_type": "code",
   "execution_count": 15,
   "source": [
    "factorial(5)"
   ],
   "outputs": [
    {
     "output_type": "execute_result",
     "data": {
      "text/plain": [
       "120"
      ]
     },
     "metadata": {},
     "execution_count": 15
    }
   ],
   "metadata": {}
  },
  {
   "cell_type": "markdown",
   "source": [
    "## 34.2 속성(Attribute) 사용하기"
   ],
   "metadata": {}
  },
  {
   "cell_type": "code",
   "execution_count": 16,
   "source": [
    "class Person:\r\n",
    "    def __init__(self): # 속성은 이 함수명에 넣어줘야만 설정됨(파이썬의 규칙)\r\n",
    "        self.hello='안녕하세요'\r\n",
    "\r\n",
    "    def greeting(self):\r\n",
    "        print(self.hello)\r\n",
    "\r\n",
    "james=Person()\r\n",
    "james.greeting()"
   ],
   "outputs": [
    {
     "output_type": "stream",
     "name": "stdout",
     "text": [
      "안녕하세요\n"
     ]
    }
   ],
   "metadata": {}
  },
  {
   "cell_type": "code",
   "execution_count": 17,
   "source": [
    "maria=Person()\r\n",
    "maria.hello='How are you'\r\n",
    "maria.greeting()"
   ],
   "outputs": [
    {
     "output_type": "stream",
     "name": "stdout",
     "text": [
      "How are you\n"
     ]
    }
   ],
   "metadata": {}
  },
  {
   "cell_type": "code",
   "execution_count": 18,
   "source": [
    "class Person:\r\n",
    "    def __init__(self, hello): # constructor\r\n",
    "        self.hello = hello\r\n",
    "    \r\n",
    "    def greeting(self):\r\n",
    "        print(self.hello)"
   ],
   "outputs": [],
   "metadata": {}
  },
  {
   "cell_type": "code",
   "execution_count": 19,
   "source": [
    "james = Person('안녕하세요')\r\n",
    "maria = Person('How are you')\r\n",
    "\r\n",
    "james.greeting()\r\n",
    "maria.greeting()"
   ],
   "outputs": [
    {
     "output_type": "stream",
     "name": "stdout",
     "text": [
      "안녕하세요\n",
      "How are you\n"
     ]
    }
   ],
   "metadata": {}
  },
  {
   "cell_type": "code",
   "execution_count": null,
   "source": [
    "# java에서는 클래스 이름은 대문자로 시작"
   ],
   "outputs": [],
   "metadata": {}
  },
  {
   "cell_type": "code",
   "execution_count": 25,
   "source": [
    "class Person:\r\n",
    "    def __init__(self, name, age, address): # *args, **kwargs 사용가능\r\n",
    "        self.hello = '안녕하세요.'\r\n",
    "        self.name = name\r\n",
    "        self.age = age\r\n",
    "        self.address = address\r\n",
    "    \r\n",
    "    def greeting(self):\r\n",
    "        print(f'{self.hello} 저는 {self.name}입니다.')\r\n",
    "\r\n",
    "    def __str__(self):\r\n",
    "        return f'hello: {self.hello}, name: {self.name}, age:{self.age}, addr: {self.address}'"
   ],
   "outputs": [],
   "metadata": {}
  },
  {
   "cell_type": "code",
   "execution_count": 27,
   "source": [
    "maria=Person('마리아',23,'서울시 강남구 도곡동')\r\n",
    "maria.greeting()"
   ],
   "outputs": [
    {
     "output_type": "stream",
     "name": "stdout",
     "text": [
      "안녕하세요. 저는 마리아입니다.\n"
     ]
    }
   ],
   "metadata": {}
  },
  {
   "cell_type": "code",
   "execution_count": 28,
   "source": [
    "print(maria)"
   ],
   "outputs": [
    {
     "output_type": "stream",
     "name": "stdout",
     "text": [
      "hello: 안녕하세요., name: 마리아, age:23, addr: 서울시 강남구 도곡동\n"
     ]
    }
   ],
   "metadata": {}
  },
  {
   "cell_type": "markdown",
   "source": [
    "## 비공개 속성"
   ],
   "metadata": {}
  },
  {
   "cell_type": "code",
   "execution_count": 40,
   "source": [
    "class Person:\r\n",
    "    def __init__(self, name, age, address, wallet):\r\n",
    "        self.name = name\r\n",
    "        self.age = age\r\n",
    "        self.address = address\r\n",
    "        self.__wallet = wallet # __을 붙이면 비공개 속성이 됨\r\n",
    "    \r\n",
    "    def greeting(self):\r\n",
    "        print(f'안녕하세요 저는 {self.name}입니다.')\r\n",
    "\r\n",
    "    def pay(self, amount):\r\n",
    "        if self.__wallet - amount <0:\r\n",
    "            print('Your wallet is empty')\r\n",
    "            return\r\n",
    "        self.__wallet -= amount\r\n",
    "        print(f'your money in your wallet is {self.__wallet}')\r\n",
    "\r\n",
    "    def __str__(self):\r\n",
    "        return f'name: {self.name}, age:{self.age}, addr: {self.address}, wallet:{self.__wallet}'\r\n"
   ],
   "outputs": [],
   "metadata": {}
  },
  {
   "cell_type": "code",
   "execution_count": 41,
   "source": [
    "james = Person('james', 27, '서울 강남구 역삼동', 10000)\r\n",
    "james.greeting()"
   ],
   "outputs": [
    {
     "output_type": "stream",
     "name": "stdout",
     "text": [
      "안녕하세요 저는 james입니다.\n"
     ]
    }
   ],
   "metadata": {}
  },
  {
   "cell_type": "code",
   "execution_count": 37,
   "source": [
    "print(james)"
   ],
   "outputs": [
    {
     "output_type": "stream",
     "name": "stdout",
     "text": [
      "name: james, age:27, addr: 서울 강남구 역삼동, wallet:10000\n"
     ]
    }
   ],
   "metadata": {}
  },
  {
   "cell_type": "code",
   "execution_count": 38,
   "source": [
    "james.__wallet = 100000 "
   ],
   "outputs": [],
   "metadata": {}
  },
  {
   "cell_type": "code",
   "execution_count": 39,
   "source": [
    "print(james) # 비공개 속성이기때문에 값이 변하지 않음"
   ],
   "outputs": [
    {
     "output_type": "stream",
     "name": "stdout",
     "text": [
      "name: james, age:27, addr: 서울 강남구 역삼동, wallet:10000\n"
     ]
    }
   ],
   "metadata": {}
  },
  {
   "cell_type": "code",
   "execution_count": 42,
   "source": [
    "james.pay(5000) # 직접 수정하는 것이 아니라 수정을 할 수 있는 메서드로 수정"
   ],
   "outputs": [
    {
     "output_type": "stream",
     "name": "stdout",
     "text": [
      "your money in your wallet is 5000\n"
     ]
    }
   ],
   "metadata": {}
  },
  {
   "cell_type": "code",
   "execution_count": 43,
   "source": [
    "print(james)"
   ],
   "outputs": [
    {
     "output_type": "stream",
     "name": "stdout",
     "text": [
      "name: james, age:27, addr: 서울 강남구 역삼동, wallet:5000\n"
     ]
    }
   ],
   "metadata": {}
  },
  {
   "cell_type": "markdown",
   "source": [
    "#### Account\r\n",
    "- ano: 문자열 6글자, '123456'\r\n",
    "- owner: 문자열\r\n",
    "- balance: 잔액, 비공개 속성\r\n",
    "\r\n",
    "- 생성자\r\n",
    "- deposit(amount)  잔액이 1000만원 이상은 입금할 수 없음\r\n",
    "- withdraw(amount) 잔액이 0원 미만이면 출금할 수 없음\r\n",
    "- 출력 가능하게"
   ],
   "metadata": {}
  },
  {
   "cell_type": "code",
   "execution_count": 46,
   "source": [
    "class Account:\r\n",
    "    def __init__(self, ano, owner,balance):\r\n",
    "        self.ano = ano\r\n",
    "        self.owner = owner\r\n",
    "        self.__balance = balance\r\n",
    "    \r\n",
    "    def deposit(self, amount):\r\n",
    "        if self.__balance + amount >= 10000000:\r\n",
    "            print('잔액이 1000만원을 초과했습니다.')\r\n",
    "            return\r\n",
    "        self.__balance += amount\r\n",
    "\r\n",
    "    def  withdraw(self, amount):\r\n",
    "        if self.__balance - amount <0:\r\n",
    "            print('잔액이 부족하여 출금할 수 없습니다.')\r\n",
    "            return\r\n",
    "        self.__balance -= amount\r\n",
    "        print(f'남은 잔액은 {self.__balance}원입니다.')\r\n",
    "    \r\n",
    "    def __str__(self):\r\n",
    "        return f'ano: {self.ano}, owner:{self.owner}, balance: {self.__balance}'\r\n",
    "\r\n"
   ],
   "outputs": [],
   "metadata": {}
  },
  {
   "cell_type": "code",
   "execution_count": 50,
   "source": [
    "acc = Account('123456','maria',100000)\r\n",
    "print(acc)"
   ],
   "outputs": [
    {
     "output_type": "stream",
     "name": "stdout",
     "text": [
      "ano: 123456, owner:maria, balance: 100000\n"
     ]
    }
   ],
   "metadata": {}
  },
  {
   "cell_type": "code",
   "execution_count": 51,
   "source": [
    "acc.deposit(70000000)\r\n",
    "print(acc)"
   ],
   "outputs": [
    {
     "output_type": "stream",
     "name": "stdout",
     "text": [
      "잔액이 1000만원을 초과했습니다.\n",
      "ano: 123456, owner:maria, balance: 100000\n"
     ]
    }
   ],
   "metadata": {}
  },
  {
   "cell_type": "code",
   "execution_count": 52,
   "source": [
    "acc.withdraw(50000)\r\n",
    "print(acc)"
   ],
   "outputs": [
    {
     "output_type": "stream",
     "name": "stdout",
     "text": [
      "남은 잔액은 50000원입니다.\n",
      "ano: 123456, owner:maria, balance: 50000\n"
     ]
    }
   ],
   "metadata": {}
  },
  {
   "cell_type": "code",
   "execution_count": 53,
   "source": [
    "acc2=Account('978147','james',5000000)\r\n",
    "print(acc2)"
   ],
   "outputs": [
    {
     "output_type": "stream",
     "name": "stdout",
     "text": [
      "ano: 978147, owner:james, balance: 5000000\n"
     ]
    }
   ],
   "metadata": {}
  },
  {
   "cell_type": "code",
   "execution_count": 54,
   "source": [
    "acc_list = [acc,acc2]"
   ],
   "outputs": [],
   "metadata": {}
  },
  {
   "cell_type": "code",
   "execution_count": 55,
   "source": [
    "for account in acc_list:\r\n",
    "    print(account)"
   ],
   "outputs": [
    {
     "output_type": "stream",
     "name": "stdout",
     "text": [
      "ano: 123456, owner:maria, balance: 50000\n",
      "ano: 978147, owner:james, balance: 5000000\n"
     ]
    }
   ],
   "metadata": {}
  },
  {
   "cell_type": "markdown",
   "source": [
    "### 1: 계좌생성, 2:계좌목록, 3:입금, 4:출금, 5:종료"
   ],
   "metadata": {}
  },
  {
   "cell_type": "code",
   "execution_count": 60,
   "source": [
    "def creat_account():\r\n",
    "    owner, ano = input('이름과 계좌번호6자리 입력').split()\r\n",
    "    password, balance = map(int,input('비밀번호, 첫 입금 금액 입력').split())\r\n",
    "    owner = Account(ano, owner, balance)\r\n",
    "    acc_list.append(owner) "
   ],
   "outputs": [],
   "metadata": {}
  },
  {
   "cell_type": "code",
   "execution_count": 57,
   "source": [
    "def deposit_account():\r\n",
    "    ano, amount= input('계좌 번호, 입금금액 입력>').split()\r\n",
    "    for acc in acc_list:\r\n",
    "        if acc.ano == ano:\r\n",
    "            acc.deposit(amount)\r\n",
    "    "
   ],
   "outputs": [],
   "metadata": {}
  },
  {
   "cell_type": "code",
   "execution_count": 61,
   "source": [
    "def withdraw_account():\r\n",
    "    ano, amount= input('계좌 번호, 입금금액 입력>').split()\r\n",
    "    for acc in acc_list:\r\n",
    "        if acc.ano == ano:\r\n",
    "            acc.withdraw(amount)"
   ],
   "outputs": [],
   "metadata": {}
  },
  {
   "cell_type": "code",
   "execution_count": null,
   "source": [
    "def duplicate(ano):\r\n",
    "    for acc in acc_list:\r\n",
    "        if ano == acc.ano:\r\n",
    "            return True\r\n",
    "    return False\r\n"
   ],
   "outputs": [],
   "metadata": {}
  },
  {
   "cell_type": "code",
   "execution_count": 66,
   "source": [
    "def creat_account():\r\n",
    "    while True:\r\n",
    "        s = input('계좌번호 성명 금액>').split()\r\n",
    "        ano, owner = s[0],s[1]\r\n",
    "        amount= int(s[2])\r\n",
    "        if not duplicate(ano):\r\n",
    "            break\r\n",
    "    acc = Account(ano,owner, amount)\r\n",
    "    acc_list.append(acc)"
   ],
   "outputs": [],
   "metadata": {}
  },
  {
   "cell_type": "code",
   "execution_count": 67,
   "source": [
    "def deposit_account():\r\n",
    "    s = input('계좌번호 금액>').split()\r\n",
    "    ano, amount = s[0], int(s[1])\r\n",
    "    for acc in acc_list:\r\n",
    "        if acc.ano == ano:\r\n",
    "            acc.deposit(amount)"
   ],
   "outputs": [],
   "metadata": {}
  },
  {
   "cell_type": "code",
   "execution_count": 68,
   "source": [
    "def withdraw_account():\r\n",
    "    s = input('계좌번호 금액>').split()\r\n",
    "    ano, amount = s[0], int(s[1])\r\n",
    "    for acc in acc_list:\r\n",
    "        if acc.ano == ano:\r\n",
    "            acc.withdraw(amount)"
   ],
   "outputs": [],
   "metadata": {}
  },
  {
   "cell_type": "code",
   "execution_count": 70,
   "source": [
    "while True:\r\n",
    "    menu = int(input('1: 계좌생성, 2:계좌목록, 3:입금, 4:출금, 5:종료>'))\r\n",
    "    if menu==5:\r\n",
    "        break\r\n",
    "    if menu == 1:\r\n",
    "        creat_account()\r\n",
    "    elif menu ==2:\r\n",
    "        for account in acc_list:\r\n",
    "            print(account)\r\n",
    "    elif menu ==3:\r\n",
    "        deposit_account()\r\n",
    "    elif menu ==4:\r\n",
    "        withdraw_account()\r\n",
    "    else:\r\n",
    "        print('잘못된 명령어입니다.')\r\n",
    "\r\n",
    "    print()"
   ],
   "outputs": [
    {
     "output_type": "stream",
     "name": "stdout",
     "text": [
      "\n",
      "ano: 123456, owner:maria, balance: 50000\n",
      "ano: 978147, owner:james, balance: 5000000\n",
      "ano: 123456, owner:james, balance: 10000\n",
      "ano: 159645, owner:michael, balance: 100000\n",
      "\n"
     ]
    }
   ],
   "metadata": {}
  }
 ],
 "metadata": {
  "orig_nbformat": 4,
  "language_info": {
   "name": "python",
   "version": "3.8.10",
   "mimetype": "text/x-python",
   "codemirror_mode": {
    "name": "ipython",
    "version": 3
   },
   "pygments_lexer": "ipython3",
   "nbconvert_exporter": "python",
   "file_extension": ".py"
  },
  "kernelspec": {
   "name": "python3",
   "display_name": "Python 3.8.10 64-bit ('base': conda)"
  },
  "interpreter": {
   "hash": "acbbfebbbdf654efa85aa18169a14b54796a806b8c18a3c243660030e08aa454"
  }
 },
 "nbformat": 4,
 "nbformat_minor": 2
}