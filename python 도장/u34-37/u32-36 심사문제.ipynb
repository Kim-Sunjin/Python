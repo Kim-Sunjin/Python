{
 "cells": [
  {
   "cell_type": "markdown",
   "source": [
    "# Unit 32 심사문제"
   ],
   "metadata": {}
  },
  {
   "cell_type": "code",
   "execution_count": 5,
   "source": [
    "files = input().split()\r\n",
    "\r\n",
    "list(map(lambda x : f\"{int(x.split('.')[0]):03d}.{x.split('.')[1]}\", files))"
   ],
   "outputs": [
    {
     "output_type": "execute_result",
     "data": {
      "text/plain": [
       "['001.jpg', '023.jpg', '005.png']"
      ]
     },
     "metadata": {},
     "execution_count": 5
    }
   ],
   "metadata": {}
  },
  {
   "cell_type": "markdown",
   "source": [
    "# Unit 34 심사문제"
   ],
   "metadata": {}
  },
  {
   "cell_type": "code",
   "execution_count": null,
   "source": [
    "class Time:\r\n",
    "    def __init__(self, hour, minute,second):\r\n",
    "        self.hour = hour\r\n",
    "        self.minute = minute\r\n",
    "        self.second = second\r\n",
    "    \r\n",
    "    @staticmethod\r\n",
    "    def is_time_valid(time, string):\r\n",
    "        h,m,s = map(int, time_string.split())\r\n",
    "        return 0<h<=24 and 0<m<=59 and 0<s<=60\r\n",
    "    "
   ],
   "outputs": [],
   "metadata": {}
  }
 ],
 "metadata": {
  "orig_nbformat": 4,
  "language_info": {
   "name": "python",
   "version": "3.8.10",
   "mimetype": "text/x-python",
   "codemirror_mode": {
    "name": "ipython",
    "version": 3
   },
   "pygments_lexer": "ipython3",
   "nbconvert_exporter": "python",
   "file_extension": ".py"
  },
  "kernelspec": {
   "name": "python3",
   "display_name": "Python 3.8.10 64-bit ('base': conda)"
  },
  "interpreter": {
   "hash": "acbbfebbbdf654efa85aa18169a14b54796a806b8c18a3c243660030e08aa454"
  }
 },
 "nbformat": 4,
 "nbformat_minor": 2
}