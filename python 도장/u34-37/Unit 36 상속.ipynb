{
 "cells": [
  {
   "cell_type": "markdown",
   "source": [
    "# Unit 36"
   ],
   "metadata": {}
  },
  {
   "cell_type": "code",
   "execution_count": 1,
   "source": [
    "class Person:\r\n",
    "    def greeting(self):\r\n",
    "        print('Hello')\r\n",
    "\r\n",
    "class Student(Person):\r\n",
    "    def study(self):\r\n",
    "        print('공부하기')\r\n",
    "\r\n",
    "james = Student()\r\n",
    "james.greeting()\r\n",
    "james.study()"
   ],
   "outputs": [
    {
     "output_type": "stream",
     "name": "stdout",
     "text": [
      "Hello\n",
      "공부하기\n"
     ]
    }
   ],
   "metadata": {}
  },
  {
   "cell_type": "code",
   "execution_count": 2,
   "source": [
    "issubclass(Student,Person)"
   ],
   "outputs": [
    {
     "output_type": "execute_result",
     "data": {
      "text/plain": [
       "True"
      ]
     },
     "metadata": {},
     "execution_count": 2
    }
   ],
   "metadata": {}
  },
  {
   "cell_type": "markdown",
   "source": [
    "## 기반클래스의 속성 사용하기"
   ],
   "metadata": {}
  },
  {
   "cell_type": "code",
   "execution_count": 13,
   "source": [
    "class Person:\r\n",
    "    def  __init__(self):\r\n",
    "        print('Person  __init__')\r\n",
    "        self.hello = '안녕하세요'\r\n",
    "\r\n",
    "class Student(Person):\r\n",
    "    def __init__(self):\r\n",
    "        print('Student __init__')\r\n",
    "        self.school =  '파이썬 코딩 도장'\r\n",
    "        super().__init__()"
   ],
   "outputs": [],
   "metadata": {}
  },
  {
   "cell_type": "code",
   "execution_count": 14,
   "source": [
    "james = Student()\r\n",
    "print(james.school)\r\n",
    "print(james.hello)"
   ],
   "outputs": [
    {
     "output_type": "stream",
     "name": "stdout",
     "text": [
      "Student __init__\n",
      "Person  __init__\n",
      "파이썬 코딩 도장\n",
      "안녕하세요\n"
     ]
    }
   ],
   "metadata": {}
  },
  {
   "cell_type": "markdown",
   "source": [
    "## 36.4 메서드 오버라이딩"
   ],
   "metadata": {}
  },
  {
   "cell_type": "code",
   "execution_count": 17,
   "source": [
    "class Person:\r\n",
    "    def greeting(self):\r\n",
    "        print('안녕하세요')\r\n",
    "    \r\n",
    "class Student(Person):\r\n",
    "    def greeting(self):\r\n",
    "        super().greeting()\r\n",
    "        print('저는 파이썬 코딩 도장 학생입니다.')\r\n",
    "\r\n",
    "james = Student()\r\n",
    "james.greeting()"
   ],
   "outputs": [
    {
     "output_type": "stream",
     "name": "stdout",
     "text": [
      "안녕하세요\n",
      "저는 파이썬 코딩 도장 학생입니다.\n"
     ]
    }
   ],
   "metadata": {}
  },
  {
   "cell_type": "markdown",
   "source": [
    "## 다중상속"
   ],
   "metadata": {}
  },
  {
   "cell_type": "code",
   "execution_count": null,
   "source": [
    "# 다중 상속은 연결관계가 꼬일 수 있어서 못하게 하는 언어도 있음\r\n",
    "class Person:\r\n",
    "    def greeting(self):\r\n",
    "        print('안녕하세요.')\r\n",
    " \r\n",
    "class University:\r\n",
    "    def manage_credit(self):\r\n",
    "        print('학점 관리')\r\n",
    " \r\n",
    "class Undergraduate(Person, University):\r\n",
    "    def study(self):\r\n",
    "        print('공부하기')"
   ],
   "outputs": [],
   "metadata": {}
  },
  {
   "cell_type": "code",
   "execution_count": 18,
   "source": [
    "int.mro()"
   ],
   "outputs": [
    {
     "output_type": "execute_result",
     "data": {
      "text/plain": [
       "[int, object]"
      ]
     },
     "metadata": {},
     "execution_count": 18
    }
   ],
   "metadata": {}
  },
  {
   "cell_type": "markdown",
   "source": [
    "## 36.6 추상 클래스 -interface "
   ],
   "metadata": {}
  },
  {
   "cell_type": "code",
   "execution_count": 22,
   "source": [
    "from abc import *\r\n",
    "\r\n",
    "class StudentBase(metaclass=ABCMeta):\r\n",
    "    @abstractmethod # decorator\r\n",
    "    def study(self):\r\n",
    "        pass\r\n",
    "    \r\n",
    "    @abstractmethod\r\n",
    "    def go_to_school(self):\r\n",
    "        pass\r\n"
   ],
   "outputs": [],
   "metadata": {}
  },
  {
   "cell_type": "code",
   "execution_count": 23,
   "source": [
    "class Student(StudentBase):\r\n",
    "    def study(self):\r\n",
    "        print('공부하기')"
   ],
   "outputs": [],
   "metadata": {}
  },
  {
   "cell_type": "code",
   "execution_count": null,
   "source": [
    "james = Student()\r\n",
    "james.study()"
   ],
   "outputs": [],
   "metadata": {}
  },
  {
   "cell_type": "code",
   "execution_count": 25,
   "source": [
    "class Student(StudentBase):\r\n",
    "    def study(self):\r\n",
    "        print('공부하기')\r\n",
    "    def go_to_school(self):\r\n",
    "        print('학교가기')"
   ],
   "outputs": [],
   "metadata": {}
  },
  {
   "cell_type": "code",
   "execution_count": 26,
   "source": [
    "james = Student()\r\n",
    "james.study()"
   ],
   "outputs": [
    {
     "output_type": "stream",
     "name": "stdout",
     "text": [
      "공부하기\n"
     ]
    }
   ],
   "metadata": {}
  }
 ],
 "metadata": {
  "orig_nbformat": 4,
  "language_info": {
   "name": "python",
   "version": "3.8.10",
   "mimetype": "text/x-python",
   "codemirror_mode": {
    "name": "ipython",
    "version": 3
   },
   "pygments_lexer": "ipython3",
   "nbconvert_exporter": "python",
   "file_extension": ".py"
  },
  "kernelspec": {
   "name": "python3",
   "display_name": "Python 3.8.10 64-bit ('base': conda)"
  },
  "interpreter": {
   "hash": "acbbfebbbdf654efa85aa18169a14b54796a806b8c18a3c243660030e08aa454"
  }
 },
 "nbformat": 4,
 "nbformat_minor": 2
}