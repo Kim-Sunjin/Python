{
 "cells": [
  {
   "cell_type": "markdown",
   "source": [
    "Unit 15. 심사문제"
   ],
   "metadata": {}
  },
  {
   "cell_type": "code",
   "execution_count": null,
   "source": [
    "age = int(input())\r\n",
    "balance = 9000\r\n",
    "if age>=7 and age<=12:\r\n",
    "    balance -= 650\r\n",
    "    print(balance)\r\n",
    "elif age >=13 and age <=18:\r\n",
    "    balance -= 1050\r\n",
    "    print(balance)\r\n",
    "elif age >=19:\r\n",
    "    balance -= 1250\r\n",
    "    print(balance)\r\n",
    "\r\n"
   ],
   "outputs": [],
   "metadata": {}
  },
  {
   "cell_type": "code",
   "execution_count": null,
   "source": [],
   "outputs": [],
   "metadata": {}
  },
  {
   "cell_type": "markdown",
   "source": [
    "Unit 16. 심사문제"
   ],
   "metadata": {}
  },
  {
   "cell_type": "code",
   "execution_count": null,
   "source": [
    "var = int(input())\r\n",
    "var_list=[]\r\n",
    "for i in range(1,11):\r\n",
    "    var_list.append(var*i)\r\n",
    "for i in range(0,10):\r\n",
    "    print(var,'*',i+1,'=',var_list[i], sep='')"
   ],
   "outputs": [],
   "metadata": {}
  },
  {
   "cell_type": "markdown",
   "source": [
    "Unit 17. 심사문제"
   ],
   "metadata": {}
  },
  {
   "cell_type": "code",
   "execution_count": null,
   "source": [
    "my_money = int(input())\r\n",
    "while my_money >=0:\r\n",
    "    my_money-=1350\r\n",
    "    if my_money>=0:\r\n",
    "        print(my_money)\r\n"
   ],
   "outputs": [],
   "metadata": {}
  },
  {
   "cell_type": "markdown",
   "source": [
    "## Unit 18. 심사문제"
   ],
   "metadata": {}
  },
  {
   "cell_type": "code",
   "execution_count": null,
   "source": [
    "start, stop = map(int,input().split())\r\n",
    "\r\n",
    "i = start\r\n",
    "\r\n",
    "while True:\r\n",
    "    if (i-3)%10 ==0:\r\n",
    "        continue\r\n",
    "    if i == stop:\r\n",
    "        break\r\n",
    "    print(i, end=' ')\r\n",
    "    i +=1\r\n",
    "    "
   ],
   "outputs": [],
   "metadata": {}
  },
  {
   "cell_type": "markdown",
   "source": [
    "### 번외문제 a+b+c =1000(a<b<c) 피타고라스 수는?"
   ],
   "metadata": {}
  },
  {
   "cell_type": "code",
   "execution_count": 1,
   "source": [
    "number_list=[]\r\n",
    "for a in range(0,1000):\r\n",
    "    for b in range(a,1000):\r\n",
    "        for c in range(b,1000):\r\n",
    "            if a<b<c and a+b+c==1000 and a*a+b*b == c*c:\r\n",
    "                number_list.append([a,b,c])\r\n",
    "print(number_list)"
   ],
   "outputs": [
    {
     "output_type": "stream",
     "name": "stdout",
     "text": [
      "[[200, 375, 425]]\n"
     ]
    }
   ],
   "metadata": {}
  },
  {
   "cell_type": "code",
   "execution_count": 1,
   "source": [
    "for a in range(1,333):\r\n",
    "    for b in range(a+1,500):\r\n",
    "        c = 1000 - a -b\r\n",
    "        if c*c == a*a + b*b:\r\n",
    "            print(a,b,c)"
   ],
   "outputs": [
    {
     "output_type": "stream",
     "name": "stdout",
     "text": [
      "200 375 425\n"
     ]
    }
   ],
   "metadata": {}
  },
  {
   "cell_type": "code",
   "execution_count": 2,
   "source": [
    "[(a,b,c) for a in range(1,333)\r\n",
    "                for b in range(a+1,500)\r\n",
    "                    for c in range(b+1,1000)\r\n",
    "                        if a+b+c == 1000 and a*a+b*b==c*c]"
   ],
   "outputs": [
    {
     "output_type": "execute_result",
     "data": {
      "text/plain": [
       "[(200, 375, 425)]"
      ]
     },
     "metadata": {},
     "execution_count": 2
    }
   ],
   "metadata": {}
  },
  {
   "cell_type": "markdown",
   "source": [
    "#### 만 나이"
   ],
   "metadata": {}
  },
  {
   "cell_type": "code",
   "execution_count": 4,
   "source": [
    "from datetime import date\r\n",
    "today = date.today()\r\n",
    "today"
   ],
   "outputs": [
    {
     "output_type": "execute_result",
     "data": {
      "text/plain": [
       "datetime.date(2021, 7, 30)"
      ]
     },
     "metadata": {},
     "execution_count": 4
    }
   ],
   "metadata": {}
  },
  {
   "cell_type": "code",
   "execution_count": null,
   "source": [
    "year, month, day = map(int, input().split())\r\n",
    "year, month, day"
   ],
   "outputs": [],
   "metadata": {}
  },
  {
   "cell_type": "markdown",
   "source": [
    "#### 디지털 시계"
   ],
   "metadata": {}
  },
  {
   "cell_type": "code",
   "execution_count": 5,
   "source": [
    "total_seconds = 0\r\n",
    "for hour in range(24):\r\n",
    "    for min in range(60):\r\n",
    "        time = f'{hour:02d}:{min:02d}'\r\n",
    "        if '3' in time:\r\n",
    "            total_seconds += 60\r\n",
    "print(total_seconds)"
   ],
   "outputs": [
    {
     "output_type": "stream",
     "name": "stdout",
     "text": [
      "29700\n"
     ]
    }
   ],
   "metadata": {}
  },
  {
   "cell_type": "code",
   "execution_count": null,
   "source": [],
   "outputs": [],
   "metadata": {}
  }
 ],
 "metadata": {
  "orig_nbformat": 4,
  "language_info": {
   "name": "python",
   "version": "3.8.10",
   "mimetype": "text/x-python",
   "codemirror_mode": {
    "name": "ipython",
    "version": 3
   },
   "pygments_lexer": "ipython3",
   "nbconvert_exporter": "python",
   "file_extension": ".py"
  },
  "kernelspec": {
   "name": "python3",
   "display_name": "Python 3.8.10 64-bit ('base': conda)"
  },
  "interpreter": {
   "hash": "acbbfebbbdf654efa85aa18169a14b54796a806b8c18a3c243660030e08aa454"
  }
 },
 "nbformat": 4,
 "nbformat_minor": 2
}