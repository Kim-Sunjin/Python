{
  "nbformat": 4,
  "nbformat_minor": 0,
  "metadata": {
    "colab": {
      "name": "U05_숫자계산.ipynb",
      "provenance": [],
      "authorship_tag": "ABX9TyOjNeZB26GTAAM2SFIlAudW"
    },
    "kernelspec": {
      "name": "python3",
      "display_name": "Python 3"
    },
    "language_info": {
      "name": "python"
    }
  },
  "cells": [
    {
      "cell_type": "markdown",
      "metadata": {
        "id": "BMc0o2iJo8e8"
      },
      "source": [
        "# Unit 5. 숫자계산"
      ]
    },
    {
      "cell_type": "markdown",
      "metadata": {
        "id": "9LwL9QBXqj24"
      },
      "source": [
        "## 정수"
      ]
    },
    {
      "cell_type": "code",
      "metadata": {
        "colab": {
          "base_uri": "https://localhost:8080/"
        },
        "id": "5JOeizqFo2es",
        "outputId": "4ff791b7-bac3-494c-db7e-0348cadce129"
      },
      "source": [
        "# 4칙 연산 +, =, *, /, %, //\n",
        "5/2"
      ],
      "execution_count": 1,
      "outputs": [
        {
          "output_type": "execute_result",
          "data": {
            "text/plain": [
              "2.5"
            ]
          },
          "metadata": {
            "tags": []
          },
          "execution_count": 1
        }
      ]
    },
    {
      "cell_type": "code",
      "metadata": {
        "colab": {
          "base_uri": "https://localhost:8080/"
        },
        "id": "wsO4ysfFq8jd",
        "outputId": "9face3c2-7684-4d54-80eb-35231bebd09e"
      },
      "source": [
        "# %- module, 나머지\n",
        "5 % 2"
      ],
      "execution_count": 6,
      "outputs": [
        {
          "output_type": "execute_result",
          "data": {
            "text/plain": [
              "1"
            ]
          },
          "metadata": {
            "tags": []
          },
          "execution_count": 6
        }
      ]
    },
    {
      "cell_type": "code",
      "metadata": {
        "colab": {
          "base_uri": "https://localhost:8080/"
        },
        "id": "zoeyICc3uFSx",
        "outputId": "0cb26a16-5b11-44cc-d8ba-d1b3a7724513"
      },
      "source": [
        "5 // 2"
      ],
      "execution_count": 7,
      "outputs": [
        {
          "output_type": "execute_result",
          "data": {
            "text/plain": [
              "2"
            ]
          },
          "metadata": {
            "tags": []
          },
          "execution_count": 7
        }
      ]
    },
    {
      "cell_type": "code",
      "metadata": {
        "colab": {
          "base_uri": "https://localhost:8080/"
        },
        "id": "PcHmT_sUuIy2",
        "outputId": "ab009e92-6a63-4704-a961-6c4a6a8c5c19"
      },
      "source": [
        "int(3.14)"
      ],
      "execution_count": 8,
      "outputs": [
        {
          "output_type": "execute_result",
          "data": {
            "text/plain": [
              "3"
            ]
          },
          "metadata": {
            "tags": []
          },
          "execution_count": 8
        }
      ]
    },
    {
      "cell_type": "code",
      "metadata": {
        "colab": {
          "base_uri": "https://localhost:8080/"
        },
        "id": "cAIbQdoBvS3z",
        "outputId": "7b378942-558c-4d44-aca9-6a2428f2efc2"
      },
      "source": [
        "string='55'\n",
        "value = int(string)\n",
        "string, value"
      ],
      "execution_count": 11,
      "outputs": [
        {
          "output_type": "execute_result",
          "data": {
            "text/plain": [
              "('55', 55)"
            ]
          },
          "metadata": {
            "tags": []
          },
          "execution_count": 11
        }
      ]
    },
    {
      "cell_type": "code",
      "metadata": {
        "colab": {
          "base_uri": "https://localhost:8080/"
        },
        "id": "A-mkwsPLwrl0",
        "outputId": "9114402c-f089-485f-9b89-462dfde218d0"
      },
      "source": [
        "type(string), type(value), type(3.14)"
      ],
      "execution_count": 15,
      "outputs": [
        {
          "output_type": "execute_result",
          "data": {
            "text/plain": [
              "(str, int, float)"
            ]
          },
          "metadata": {
            "tags": []
          },
          "execution_count": 15
        }
      ]
    },
    {
      "cell_type": "code",
      "metadata": {
        "colab": {
          "base_uri": "https://localhost:8080/"
        },
        "id": "R4uYqB5Sxa2D",
        "outputId": "8700ef76-1e2a-432c-cb13-44b0757a8b8f"
      },
      "source": [
        "q, r=5//2, 5 % 2 \n",
        "q, r"
      ],
      "execution_count": 16,
      "outputs": [
        {
          "output_type": "execute_result",
          "data": {
            "text/plain": [
              "(2, 1)"
            ]
          },
          "metadata": {
            "tags": []
          },
          "execution_count": 16
        }
      ]
    },
    {
      "cell_type": "markdown",
      "metadata": {
        "id": "1u7EJD_xx70o"
      },
      "source": [
        "### 진수"
      ]
    },
    {
      "cell_type": "code",
      "metadata": {
        "colab": {
          "base_uri": "https://localhost:8080/"
        },
        "id": "uKINXpQox6tO",
        "outputId": "21aa88a1-9a39-47fe-cae5-e3d5088b8f3b"
      },
      "source": [
        "# red - 0xff0000, green - 0x00ff00, blue - 0x0000ff\n",
        "#  #ffffff, #888888, #444444\n"
      ],
      "execution_count": 17,
      "outputs": [
        {
          "output_type": "execute_result",
          "data": {
            "text/plain": [
              "166"
            ]
          },
          "metadata": {
            "tags": []
          },
          "execution_count": 17
        }
      ]
    },
    {
      "cell_type": "code",
      "metadata": {
        "id": "9n84EpN72ZBF"
      },
      "source": [
        "import numpy as np\n",
        "np.abs((4.3-2.7)-1.6) < 1e-10"
      ],
      "execution_count": null,
      "outputs": []
    },
    {
      "cell_type": "code",
      "metadata": {
        "id": "k20AB4TFKCrN"
      },
      "source": [
        ""
      ],
      "execution_count": null,
      "outputs": []
    },
    {
      "cell_type": "code",
      "metadata": {
        "id": "0il78PBqJ_A5"
      },
      "source": [
        "1.4.2 + float('5')"
      ],
      "execution_count": null,
      "outputs": []
    },
    {
      "cell_type": "code",
      "metadata": {
        "colab": {
          "base_uri": "https://localhost:8080/"
        },
        "id": "GuPPVIjLKEJL",
        "outputId": "824a6cec-21cf-4976-cbdf-658adafeba91"
      },
      "source": [
        "!ls -al"
      ],
      "execution_count": 18,
      "outputs": [
        {
          "output_type": "stream",
          "text": [
            "total 20\n",
            "drwxr-xr-x 1 root root 4096 Jul 27 04:12 .\n",
            "drwxr-xr-x 1 root root 4096 Jul 27 01:53 ..\n",
            "drwxr-xr-x 4 root root 4096 Jul 16 13:19 .config\n",
            "-rw-r--r-- 1 root root   26 Jul 27 04:12 practice5.mp\n",
            "drwxr-xr-x 1 root root 4096 Jul 16 13:20 sample_data\n"
          ],
          "name": "stdout"
        }
      ]
    },
    {
      "cell_type": "code",
      "metadata": {
        "colab": {
          "base_uri": "https://localhost:8080/"
        },
        "id": "atfXH12cKj5J",
        "outputId": "9dad997a-bf9e-492e-93b1-c37b6e1f3e07"
      },
      "source": [
        "!ls -l sample_data/"
      ],
      "execution_count": 19,
      "outputs": [
        {
          "output_type": "stream",
          "text": [
            "total 55504\n",
            "-rwxr-xr-x 1 root root     1697 Jan  1  2000 anscombe.json\n",
            "-rw-r--r-- 1 root root   301141 Jul 16 13:20 california_housing_test.csv\n",
            "-rw-r--r-- 1 root root  1706430 Jul 16 13:20 california_housing_train.csv\n",
            "-rw-r--r-- 1 root root 18289443 Jul 16 13:20 mnist_test.csv\n",
            "-rw-r--r-- 1 root root 36523880 Jul 16 13:20 mnist_train_small.csv\n",
            "-rwxr-xr-x 1 root root      930 Jan  1  2000 README.md\n"
          ],
          "name": "stdout"
        }
      ]
    },
    {
      "cell_type": "code",
      "metadata": {
        "colab": {
          "base_uri": "https://localhost:8080/"
        },
        "id": "Hbyt4wvMKtNg",
        "outputId": "60c46756-47e5-4dd9-82e9-4aa1fc9bde79"
      },
      "source": [
        "!python practice5.py"
      ],
      "execution_count": 20,
      "outputs": [
        {
          "output_type": "stream",
          "text": [
            "7\n"
          ],
          "name": "stdout"
        }
      ]
    },
    {
      "cell_type": "markdown",
      "metadata": {
        "id": "O1UGpLaTKOZF"
      },
      "source": [
        "# 새 섹션"
      ]
    }
  ]
}