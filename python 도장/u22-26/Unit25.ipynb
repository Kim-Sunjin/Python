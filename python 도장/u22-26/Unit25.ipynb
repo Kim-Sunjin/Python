{
 "cells": [
  {
   "cell_type": "markdown",
   "source": [
    "# Unit 25. 딕셔너리 응용"
   ],
   "metadata": {}
  },
  {
   "cell_type": "markdown",
   "source": [
    "## 25.1 딕셔너리 조작"
   ],
   "metadata": {}
  },
  {
   "cell_type": "code",
   "execution_count": 1,
   "source": [
    "x={'a':10,'b':20,'c':30,'d':40}\r\n",
    "x.setdefault('e',100)\r\n",
    "x"
   ],
   "outputs": [
    {
     "output_type": "execute_result",
     "data": {
      "text/plain": [
       "{'a': 10, 'b': 20, 'c': 30, 'd': 40, 'e': 100}"
      ]
     },
     "metadata": {},
     "execution_count": 1
    }
   ],
   "metadata": {}
  },
  {
   "cell_type": "code",
   "execution_count": 2,
   "source": [
    "x={'a':10,'b':20,'c':30,'d':40}\r\n",
    "x.update(a=90)\r\n",
    "x"
   ],
   "outputs": [
    {
     "output_type": "execute_result",
     "data": {
      "text/plain": [
       "{'a': 90, 'b': 20, 'c': 30, 'd': 40}"
      ]
     },
     "metadata": {},
     "execution_count": 2
    }
   ],
   "metadata": {}
  },
  {
   "cell_type": "code",
   "execution_count": 3,
   "source": [
    "x['a']=100\r\n",
    "x"
   ],
   "outputs": [
    {
     "output_type": "execute_result",
     "data": {
      "text/plain": [
       "{'a': 100, 'b': 20, 'c': 30, 'd': 40}"
      ]
     },
     "metadata": {},
     "execution_count": 3
    }
   ],
   "metadata": {}
  },
  {
   "cell_type": "code",
   "execution_count": 4,
   "source": [
    "x.pop('a')"
   ],
   "outputs": [
    {
     "output_type": "execute_result",
     "data": {
      "text/plain": [
       "100"
      ]
     },
     "metadata": {},
     "execution_count": 4
    }
   ],
   "metadata": {}
  },
  {
   "cell_type": "code",
   "execution_count": 5,
   "source": [
    "x.get('c')"
   ],
   "outputs": [
    {
     "output_type": "execute_result",
     "data": {
      "text/plain": [
       "30"
      ]
     },
     "metadata": {},
     "execution_count": 5
    }
   ],
   "metadata": {}
  },
  {
   "cell_type": "code",
   "execution_count": 6,
   "source": [
    "x['c']"
   ],
   "outputs": [
    {
     "output_type": "execute_result",
     "data": {
      "text/plain": [
       "30"
      ]
     },
     "metadata": {},
     "execution_count": 6
    }
   ],
   "metadata": {}
  },
  {
   "cell_type": "code",
   "execution_count": 7,
   "source": [
    "x.items()"
   ],
   "outputs": [
    {
     "output_type": "execute_result",
     "data": {
      "text/plain": [
       "dict_items([('b', 20), ('c', 30), ('d', 40)])"
      ]
     },
     "metadata": {},
     "execution_count": 7
    }
   ],
   "metadata": {}
  },
  {
   "cell_type": "code",
   "execution_count": 8,
   "source": [
    "x.keys()"
   ],
   "outputs": [
    {
     "output_type": "execute_result",
     "data": {
      "text/plain": [
       "dict_keys(['b', 'c', 'd'])"
      ]
     },
     "metadata": {},
     "execution_count": 8
    }
   ],
   "metadata": {}
  },
  {
   "cell_type": "code",
   "execution_count": 9,
   "source": [
    "x.values()"
   ],
   "outputs": [
    {
     "output_type": "execute_result",
     "data": {
      "text/plain": [
       "dict_values([20, 30, 40])"
      ]
     },
     "metadata": {},
     "execution_count": 9
    }
   ],
   "metadata": {}
  },
  {
   "cell_type": "code",
   "execution_count": 11,
   "source": [
    "dict(zip(x.values(),x.key()))\r\n"
   ],
   "outputs": [
    {
     "output_type": "error",
     "ename": "AttributeError",
     "evalue": "'dict' object has no attribute 'key'",
     "traceback": [
      "\u001b[1;31m---------------------------------------------------------------------------\u001b[0m",
      "\u001b[1;31mAttributeError\u001b[0m                            Traceback (most recent call last)",
      "\u001b[1;32m<ipython-input-11-6034841a67c9>\u001b[0m in \u001b[0;36m<module>\u001b[1;34m\u001b[0m\n\u001b[1;32m----> 1\u001b[1;33m \u001b[0mdict\u001b[0m\u001b[1;33m(\u001b[0m\u001b[0mzip\u001b[0m\u001b[1;33m(\u001b[0m\u001b[0mx\u001b[0m\u001b[1;33m.\u001b[0m\u001b[0mvalues\u001b[0m\u001b[1;33m(\u001b[0m\u001b[1;33m)\u001b[0m\u001b[1;33m,\u001b[0m\u001b[0mx\u001b[0m\u001b[1;33m.\u001b[0m\u001b[0mkey\u001b[0m\u001b[1;33m(\u001b[0m\u001b[1;33m)\u001b[0m\u001b[1;33m)\u001b[0m\u001b[1;33m)\u001b[0m\u001b[1;33m\u001b[0m\u001b[1;33m\u001b[0m\u001b[0m\n\u001b[0m",
      "\u001b[1;31mAttributeError\u001b[0m: 'dict' object has no attribute 'key'"
     ]
    }
   ],
   "metadata": {}
  },
  {
   "cell_type": "code",
   "execution_count": 12,
   "source": [
    "k = ['a','b','c']\r\n",
    "v = [1,2,3]\r\n",
    "dict(zip(k,v))"
   ],
   "outputs": [
    {
     "output_type": "execute_result",
     "data": {
      "text/plain": [
       "{'a': 1, 'b': 2, 'c': 3}"
      ]
     },
     "metadata": {},
     "execution_count": 12
    }
   ],
   "metadata": {}
  },
  {
   "cell_type": "markdown",
   "source": [
    "## 25.2 반복문"
   ],
   "metadata": {}
  },
  {
   "cell_type": "code",
   "execution_count": 14,
   "source": [
    "x = {'a':10, 'b':20,'c':30,'d':40}\r\n",
    "for key, value in x.items():\r\n",
    "    print(f'{key}:{value}')\r\n"
   ],
   "outputs": [
    {
     "output_type": "stream",
     "name": "stdout",
     "text": [
      "a:10\n",
      "b:20\n",
      "c:30\n",
      "d:40\n"
     ]
    }
   ],
   "metadata": {}
  },
  {
   "cell_type": "code",
   "execution_count": 15,
   "source": [
    "for i, (k,v) in enumerate(x.items()):\r\n",
    "    print(i,k,v)"
   ],
   "outputs": [
    {
     "output_type": "stream",
     "name": "stdout",
     "text": [
      "0 a 10\n",
      "1 b 20\n",
      "2 c 30\n",
      "3 d 40\n"
     ]
    }
   ],
   "metadata": {}
  },
  {
   "cell_type": "code",
   "execution_count": 16,
   "source": [
    "x = {'a':10, 'b':20,'c':30,'d':40}\r\n",
    "x2={key:value*value for key, value in x.items()}\r\n",
    "x2"
   ],
   "outputs": [
    {
     "output_type": "execute_result",
     "data": {
      "text/plain": [
       "{'a': 100, 'b': 400, 'c': 900, 'd': 1600}"
      ]
     },
     "metadata": {},
     "execution_count": 16
    }
   ],
   "metadata": {}
  },
  {
   "cell_type": "code",
   "execution_count": 18,
   "source": [
    "# 딕셔너리 안에 또 딕셔너리가 존재\r\n",
    "terrestrial_planet = {\r\n",
    "    'Mercury': {\r\n",
    "        'mean_radius': 2439.7,\r\n",
    "        'mass': 3.3022E+23,\r\n",
    "        'orbital_period': 87.969\r\n",
    "    },\r\n",
    "    'Venus': {\r\n",
    "        'mean_radius': 6051.8,\r\n",
    "        'mass': 4.8676E+24,\r\n",
    "        'orbital_period': 224.70069,\r\n",
    "    },\r\n",
    "    'Earth': {\r\n",
    "        'mean_radius': 6371.0,\r\n",
    "        'mass': 5.97219E+24,\r\n",
    "        'orbital_period': 365.25641,\r\n",
    "    },\r\n",
    "    'Mars': {\r\n",
    "        'mean_radius': 3389.5,\r\n",
    "        'mass': 6.4185E+23,\r\n",
    "        'orbital_period': 686.9600,\r\n",
    "    }\r\n",
    "}\r\n",
    "terrestrial_planet['Venus']['mean_radius']\r\n"
   ],
   "outputs": [
    {
     "output_type": "execute_result",
     "data": {
      "text/plain": [
       "6051.8"
      ]
     },
     "metadata": {},
     "execution_count": 18
    }
   ],
   "metadata": {}
  },
  {
   "cell_type": "code",
   "execution_count": 21,
   "source": [
    "address = {'results': {'common': {'countPerPage': '10',\r\n",
    "   'currentPage': '1',\r\n",
    "   'errorCode': '0',\r\n",
    "   'errorMessage': '정상',\r\n",
    "   'totalCount': '1'},\r\n",
    "  'juso': [{'admCd': '4215013700',\r\n",
    "    'bdKdcd': '0',\r\n",
    "    'bdMgtSn': '4215013700100940000017657',\r\n",
    "    'bdNm': '경포대',\r\n",
    "    'buldMnnm': '365',\r\n",
    "    'buldSlno': '0',\r\n",
    "    'detBdNmList': '',\r\n",
    "    'emdNm': '저동',\r\n",
    "    'emdNo': '03',\r\n",
    "    'engAddr': '365, Gyeongpo-ro, Gangneung-si, Gangwon-do',\r\n",
    "    'jibunAddr': '강원도 강릉시 저동 94 경포대',\r\n",
    "    'liNm': '',\r\n",
    "    'lnbrMnnm': '94',\r\n",
    "    'lnbrSlno': '0',\r\n",
    "    'mtYn': '0',\r\n",
    "    'rn': '경포로',\r\n",
    "    'rnMgtSn': '421503220002',\r\n",
    "    'roadAddr': '강원도 강릉시 경포로 365(저동)',\r\n",
    "    'roadAddrPart1': '강원도 강릉시 경포로 365',\r\n",
    "    'roadAddrPart2': '(저동)',\r\n",
    "    'sggNm': '강릉시',\r\n",
    "    'siNm': '강원도',\r\n",
    "    'udrtYn': '0',\r\n",
    "    'zipNo': '25461'}]}}\r\n",
    "address['results']['juso'][0]['roadAddr']"
   ],
   "outputs": [
    {
     "output_type": "execute_result",
     "data": {
      "text/plain": [
       "'강원도 강릉시 경포로 365(저동)'"
      ]
     },
     "metadata": {},
     "execution_count": 21
    }
   ],
   "metadata": {}
  },
  {
   "cell_type": "code",
   "execution_count": null,
   "source": [],
   "outputs": [],
   "metadata": {}
  }
 ],
 "metadata": {
  "orig_nbformat": 4,
  "language_info": {
   "name": "python",
   "version": "3.8.10",
   "mimetype": "text/x-python",
   "codemirror_mode": {
    "name": "ipython",
    "version": 3
   },
   "pygments_lexer": "ipython3",
   "nbconvert_exporter": "python",
   "file_extension": ".py"
  },
  "kernelspec": {
   "name": "python3",
   "display_name": "Python 3.8.10 64-bit ('base': conda)"
  },
  "interpreter": {
   "hash": "acbbfebbbdf654efa85aa18169a14b54796a806b8c18a3c243660030e08aa454"
  }
 },
 "nbformat": 4,
 "nbformat_minor": 2
}