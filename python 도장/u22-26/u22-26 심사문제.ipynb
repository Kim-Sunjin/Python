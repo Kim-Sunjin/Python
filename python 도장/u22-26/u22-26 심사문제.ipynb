{
 "cells": [
  {
   "cell_type": "markdown",
   "source": [
    "# Unit 22-26. 심사문제"
   ],
   "metadata": {}
  },
  {
   "cell_type": "markdown",
   "source": [
    "## Unit 22"
   ],
   "metadata": {}
  },
  {
   "cell_type": "code",
   "execution_count": 5,
   "source": [
    "import math # math 함수 활용한 경우\r\n",
    "var1=int(input())\r\n",
    "var2=int(input())\r\n",
    "squ_list = []\r\n",
    "for i in range(var1,var2+1):\r\n",
    "    squ_list.append(int(math.pow(2,i)))\r\n",
    "del squ_list[1]\r\n",
    "del squ_list[-2]\r\n",
    "print(squ_list)"
   ],
   "outputs": [
    {
     "output_type": "stream",
     "name": "stdout",
     "text": [
      "[2, 8, 16, 32, 64, 128, 256, 1024]\n"
     ]
    }
   ],
   "metadata": {}
  },
  {
   "cell_type": "code",
   "execution_count": 8,
   "source": [
    "var1, var2 = map(int,input().split())\r\n",
    "squ_list = []\r\n",
    "for i in range(var1,var2+1):\r\n",
    "    squ_list.append(2**i)\r\n",
    "del squ_list[1]\r\n",
    "del squ_list[-2]\r\n",
    "print(squ_list)"
   ],
   "outputs": [
    {
     "output_type": "stream",
     "name": "stdout",
     "text": [
      "[2, 8, 16, 32, 64, 128, 256, 1024]\n"
     ]
    }
   ],
   "metadata": {}
  },
  {
   "cell_type": "markdown",
   "source": [
    "## Unit 23"
   ],
   "metadata": {}
  },
  {
   "cell_type": "code",
   "execution_count": 20,
   "source": [
    "col, row = list(map(int, input().split()))\r\n",
    "matrix = []\r\n",
    "for i in range(row):\r\n",
    "    matrix.append(list(input()))\r\n",
    "for i in range(row):\r\n",
    "    for k in range(col):\r\n",
    "        if matrix[i][k] == '*':\r\n",
    "            continue\r\n",
    "        else:\r\n",
    "            matrix[i][k] = 0\r\n",
    "            for y in range(i-1,i+2):\r\n",
    "                for x in range(k-1, k+2):\r\n",
    "                    if y < 0 or x < 0 or y >= row or x >= col:\r\n",
    "                        continue\r\n",
    "                    elif matrix[y][x] == '*':\r\n",
    "                        matrix[i][k] +=1\r\n",
    "for i in range(row):\r\n",
    "    for k in range(col):\r\n",
    "        print(matrix[i][k], end='')\r\n",
    "    print()"
   ],
   "outputs": [
    {
     "output_type": "stream",
     "name": "stdout",
     "text": [
      "*21\n",
      "2*2\n",
      "12*\n"
     ]
    }
   ],
   "metadata": {}
  },
  {
   "cell_type": "code",
   "execution_count": 1,
   "source": [
    "import random\r\n",
    "mines = []\r\n",
    "for _ in range(9):\r\n",
    "    row = ''\r\n",
    "    for _ in range(9):\r\n",
    "        if random.random() > 0.6:\r\n",
    "            row +='*'\r\n",
    "        else:\r\n",
    "            row += '.'\r\n",
    "    mines.append(row)"
   ],
   "outputs": [],
   "metadata": {}
  },
  {
   "cell_type": "code",
   "execution_count": 3,
   "source": [
    "mines = [['*' if random.random()>0.6 else '.' for _ in range(9)] for _ in range(9)]\r\n",
    "for i in range(len(mines)):\r\n",
    "    for k in range(len(mines)):\r\n",
    "        print(mines[i][k], end=' ')\r\n",
    "    print()"
   ],
   "outputs": [
    {
     "output_type": "stream",
     "name": "stdout",
     "text": [
      ". . . . . * . * * \n",
      "* * * . . * * . . \n",
      ". * * * * . * * * \n",
      "* . * . . . . * * \n",
      ". * . * * * * . . \n",
      "* * * . . . . . . \n",
      "* . * * . . . * . \n",
      ". . . * . * . . * \n",
      "* . * * . * . * . \n"
     ]
    }
   ],
   "metadata": {}
  },
  {
   "cell_type": "code",
   "execution_count": null,
   "source": [
    "def print_mines(mat):\r\n",
    "    for i in range(len(mat)):\r\n",
    "        for k in range(len(mat)):\r\n",
    "            print(mat[i][k], end=' ')\r\n",
    "    print()\r\n",
    "print_mines(mines)"
   ],
   "outputs": [],
   "metadata": {}
  },
  {
   "cell_type": "code",
   "execution_count": null,
   "source": [
    "pad_mines = []\r\n",
    "pad_mines.append('..........')\r\n",
    "for i in range(9):\r\n",
    "    row = '.'\r\n",
    "    for k in range(9):\r\n",
    "        row += mines[i][k]\r\n",
    "    row += '.'\r\n",
    "    pad_mines.append(row)\r\n",
    "pad_mines.append('..........')\r\n",
    "print_mines(pad_mines)"
   ],
   "outputs": [],
   "metadata": {}
  },
  {
   "cell_type": "code",
   "execution_count": null,
   "source": [
    "final_mines=[]\r\n",
    "for i in range(1,10):\r\n",
    "    row = ''\r\n",
    "    for k in range(1,10):\r\n",
    "        if pad_mines[i][k] == '*':\r\n",
    "            row += '*'\r\n",
    "        else:\r\n",
    "            count = (pad_mines[i-1][k-1]=='*') + (pad_mines[i-1][k]=='*') + \\\r\n",
    "                    (pad_mines[i-1][k+1]=='*') + (pad_mines[i][k-1]=='*') + \\\r\n",
    "                    (pad_mines[i][k+1]=='*') + (pad_mines[i+1][k-1]=='*') + \\\r\n",
    "                    (pad_mines[i+1][k]=='*') + (pad_mines[i+1][k+1]=='*') + \\\r\n",
    "            row = row + str(count)\r\n",
    "    final_mines.append(row)\r\n",
    "\r\n",
    "print_mines(final_mines) # 문자열 자체가 리스트라는 점을 활용해서 row를 문자열을 넣어서 문제 풀이"
   ],
   "outputs": [],
   "metadata": {}
  },
  {
   "cell_type": "markdown",
   "source": [
    "## Unit 24"
   ],
   "metadata": {}
  },
  {
   "cell_type": "markdown",
   "source": [
    "### 24.1"
   ],
   "metadata": {}
  },
  {
   "cell_type": "code",
   "execution_count": 34,
   "source": [
    "# The lecture is related with the big data. When we are in there, we need to know about knowlege of coding.\r\n",
    "paragraph = input()\r\n",
    "words = list(map(str,paragraph.split(' ')))\r\n",
    "countdown = 0\r\n",
    "for i in words:\r\n",
    "    if i.strip(',') == 'the':\r\n",
    "        countdown += 1\r\n",
    "print(countdown)"
   ],
   "outputs": [
    {
     "output_type": "stream",
     "name": "stdout",
     "text": [
      "1\n"
     ]
    }
   ],
   "metadata": {}
  },
  {
   "cell_type": "code",
   "execution_count": null,
   "source": [
    "from string import punctuation\r\n",
    "paragraph = input()\r\n",
    "words = list(map(str,paragraph.split(' ')))\r\n",
    "countdown = 0\r\n",
    "for i in words:\r\n",
    "    if i.strip(',') == 'the':\r\n",
    "        countdown += 1\r\n",
    "print(countdown)"
   ],
   "outputs": [],
   "metadata": {}
  },
  {
   "cell_type": "code",
   "execution_count": null,
   "source": [
    "text2 = ''''the paragraph is so complicated. So we need to rejust for recognizing the mean of paragraph.'''"
   ],
   "outputs": [],
   "metadata": {}
  },
  {
   "cell_type": "code",
   "execution_count": null,
   "source": [
    "import re\r\n",
    "text2 = re.sub('[\\'.,\\n]', '', text2)\r\n",
    "text2"
   ],
   "outputs": [],
   "metadata": {}
  },
  {
   "cell_type": "markdown",
   "source": [
    "### 24.2"
   ],
   "metadata": {}
  },
  {
   "cell_type": "code",
   "execution_count": null,
   "source": [
    "price_list = list(map(int,input().split(';')))\r\n",
    "price_list.sort(reversed(True))\r\n",
    "for i in price_list:\r\n",
    "    print('{:,d}'.format(i).rjust(9))\r\n",
    "# print(f'{price:9,d}')"
   ],
   "outputs": [],
   "metadata": {}
  },
  {
   "cell_type": "markdown",
   "source": [
    "## Unit 25"
   ],
   "metadata": {}
  },
  {
   "cell_type": "code",
   "execution_count": 56,
   "source": [
    "keys = input().split()\r\n",
    "values = map(int, input().split())\r\n",
    "\r\n",
    "x = dict(zip(keys, values))\r\n",
    "del x['delta']\r\n",
    "for key, value in x.items():\r\n",
    "    if value == 30:\r\n",
    "        key_30 = key\r\n",
    "del x[key_30]\r\n",
    "print(x)\r\n",
    "        "
   ],
   "outputs": [
    {
     "output_type": "stream",
     "name": "stdout",
     "text": [
      "{'alpha': 10, 'bravo': 20}\n"
     ]
    }
   ],
   "metadata": {}
  },
  {
   "cell_type": "markdown",
   "source": [
    "## Unit 26"
   ],
   "metadata": {}
  },
  {
   "cell_type": "code",
   "execution_count": 60,
   "source": [
    "num1, num2 = list(map(int,input().split()))\r\n",
    "a = set()\r\n",
    "b = set()\r\n",
    "for i in range(1,num1+1):\r\n",
    "    if num1 % i ==0:\r\n",
    "        a.add(i)\r\n",
    "for i in range(1,num2+1):\r\n",
    "    if num2 % i ==0:\r\n",
    "        b.add(i)\r\n",
    "\r\n",
    "divisor = a & b\r\n",
    "\r\n",
    "result = 0\r\n",
    "if type(divisor) == set:\r\n",
    "    result = sum(divisor)\r\n",
    "\r\n",
    "print(result)"
   ],
   "outputs": [
    {
     "output_type": "stream",
     "name": "stdout",
     "text": [
      "217\n"
     ]
    }
   ],
   "metadata": {}
  }
 ],
 "metadata": {
  "orig_nbformat": 4,
  "language_info": {
   "name": "python",
   "version": "3.8.10",
   "mimetype": "text/x-python",
   "codemirror_mode": {
    "name": "ipython",
    "version": 3
   },
   "pygments_lexer": "ipython3",
   "nbconvert_exporter": "python",
   "file_extension": ".py"
  },
  "kernelspec": {
   "name": "python3",
   "display_name": "Python 3.8.10 64-bit ('base': conda)"
  },
  "interpreter": {
   "hash": "acbbfebbbdf654efa85aa18169a14b54796a806b8c18a3c243660030e08aa454"
  }
 },
 "nbformat": 4,
 "nbformat_minor": 2
}