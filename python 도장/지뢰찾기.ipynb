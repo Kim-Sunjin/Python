{
 "cells": [
  {
   "cell_type": "markdown",
   "source": [
    "# 지뢰찾기 연습"
   ],
   "metadata": {}
  },
  {
   "cell_type": "code",
   "execution_count": 2,
   "source": [
    "N, M = list(map(int, input().split()))\r\n",
    "board = []\r\n",
    "for r in range(N):\r\n",
    "    board.append(list(input()))\r\n",
    "\r\n",
    "for i in range(N):\r\n",
    "    for k in range(M):\r\n",
    "        if board[i][k] == '*':\r\n",
    "            continue\r\n",
    "        elif board[i][k] !='*':\r\n",
    "            board[i][k]=0\r\n",
    "            for a in range(i-1,i+2):\r\n",
    "                for b in range(k-1,k+2):\r\n",
    "                    if a <0 or b<0 or a>=M or b>=M:\r\n",
    "                        continue\r\n",
    "                    elif board[a][b] == '*':\r\n",
    "                        board[i][k] += 1\r\n",
    "\r\n",
    "for i in range(N):\r\n",
    "    for k in range(M):\r\n",
    "        print(board[i][k],end='')\r\n",
    "    print()"
   ],
   "outputs": [
    {
     "output_type": "stream",
     "name": "stdout",
     "text": [
      "*32\n",
      "2**\n",
      "13*\n"
     ]
    }
   ],
   "metadata": {}
  }
 ],
 "metadata": {
  "orig_nbformat": 4,
  "language_info": {
   "name": "python",
   "version": "3.8.10",
   "mimetype": "text/x-python",
   "codemirror_mode": {
    "name": "ipython",
    "version": 3
   },
   "pygments_lexer": "ipython3",
   "nbconvert_exporter": "python",
   "file_extension": ".py"
  },
  "kernelspec": {
   "name": "python3",
   "display_name": "Python 3.8.10 64-bit ('base': conda)"
  },
  "interpreter": {
   "hash": "acbbfebbbdf654efa85aa18169a14b54796a806b8c18a3c243660030e08aa454"
  }
 },
 "nbformat": 4,
 "nbformat_minor": 2
}