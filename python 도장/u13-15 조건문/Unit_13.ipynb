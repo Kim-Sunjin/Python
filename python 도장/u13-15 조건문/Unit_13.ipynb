{
  "nbformat": 4,
  "nbformat_minor": 0,
  "metadata": {
    "colab": {
      "name": "Unit 13.ipynb",
      "provenance": [],
      "collapsed_sections": []
    },
    "kernelspec": {
      "name": "python3",
      "display_name": "Python 3"
    },
    "language_info": {
      "name": "python"
    }
  },
  "cells": [
    {
      "cell_type": "markdown",
      "metadata": {
        "id": "NsSk1HCcff7r"
      },
      "source": [
        "# Unit 13. if 조건문으로 특정 조건일 때 코드 실행하기"
      ]
    },
    {
      "cell_type": "code",
      "metadata": {
        "colab": {
          "base_uri": "https://localhost:8080/"
        },
        "id": "uydfVbMefc6c",
        "outputId": "b8e0ce20-2185-4ad7-e18a-807b5140658c"
      },
      "source": [
        "x= 10\n",
        "if x == 10:\n",
        "    print('Value is 10')\n"
      ],
      "execution_count": 1,
      "outputs": [
        {
          "output_type": "stream",
          "text": [
            "Value is 10\n"
          ],
          "name": "stdout"
        }
      ]
    },
    {
      "cell_type": "markdown",
      "metadata": {
        "id": "nKSwUI1Ai2J5"
      },
      "source": [
        "## 13.2 들여쓰기"
      ]
    },
    {
      "cell_type": "code",
      "metadata": {
        "colab": {
          "base_uri": "https://localhost:8080/"
        },
        "id": "uikkM0KTh2vP",
        "outputId": "73161cc6-14c6-49f8-8fd8-cd489dc4fca2"
      },
      "source": [
        "# 들여쓰기 주의!\n",
        "x = 10\n",
        "\n",
        "if x == 10:\n",
        "    print('x에 들어있는 숫자는')\n",
        "    print('10입니다.')"
      ],
      "execution_count": 2,
      "outputs": [
        {
          "output_type": "stream",
          "text": [
            "x에 들어있는 숫자는\n",
            "10입니다.\n"
          ],
          "name": "stdout"
        }
      ]
    },
    {
      "cell_type": "markdown",
      "metadata": {
        "id": "PQzf984bj-XO"
      },
      "source": [
        "## 13.3 중첩 if 조건문 사용하기"
      ]
    },
    {
      "cell_type": "code",
      "metadata": {
        "colab": {
          "base_uri": "https://localhost:8080/"
        },
        "id": "yehTM3jGjHcB",
        "outputId": "23d8c773-62f5-403e-85fa-9c44aab0ade0"
      },
      "source": [
        "x=15\n",
        "if x > 10:\n",
        "  print('10보다 큰 수입니다.')\n",
        "  if x ==15:\n",
        "    print('15입니다.')\n",
        "  if x == 20:\n",
        "    print('20입니다.')\n",
        " "
      ],
      "execution_count": 3,
      "outputs": [
        {
          "output_type": "stream",
          "text": [
            "10보다 큰 수입니다.\n",
            "15입니다.\n"
          ],
          "name": "stdout"
        }
      ]
    },
    {
      "cell_type": "markdown",
      "metadata": {
        "id": "orqXUKe5kkUk"
      },
      "source": [
        "## 13.4 사용자가 입력한 값에 if 조건문 사용하기"
      ]
    },
    {
      "cell_type": "code",
      "metadata": {
        "colab": {
          "base_uri": "https://localhost:8080/"
        },
        "id": "vO4iMxxhkce0",
        "outputId": "91affac4-17a6-4d26-8138-8cfd37d4d334"
      },
      "source": [
        "x = int(input())\n",
        "\n",
        "if x == 10:\n",
        "  print('10입니다.')\n",
        "\n",
        "if x == 20:\n",
        "  print('20입니다.')"
      ],
      "execution_count": 4,
      "outputs": [
        {
          "output_type": "stream",
          "text": [
            "10\n",
            "10입니다.\n"
          ],
          "name": "stdout"
        }
      ]
    },
    {
      "cell_type": "code",
      "metadata": {
        "id": "u9a0iz72k3_n"
      },
      "source": [
        ""
      ],
      "execution_count": null,
      "outputs": []
    }
  ]
}