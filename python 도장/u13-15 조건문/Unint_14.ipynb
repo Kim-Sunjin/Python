{
  "nbformat": 4,
  "nbformat_minor": 0,
  "metadata": {
    "colab": {
      "name": "Unint 14.ipynb",
      "provenance": [],
      "collapsed_sections": []
    },
    "kernelspec": {
      "name": "python3",
      "display_name": "Python 3"
    },
    "language_info": {
      "name": "python"
    }
  },
  "cells": [
    {
      "cell_type": "markdown",
      "metadata": {
        "id": "6rLvKAsKmZx1"
      },
      "source": [
        "# Unit 14. else 사용하기"
      ]
    },
    {
      "cell_type": "code",
      "metadata": {
        "colab": {
          "base_uri": "https://localhost:8080/"
        },
        "id": "MiIGxAZVmWXD",
        "outputId": "3ef05961-3394-4b99-f7f9-002a7ca7bc76"
      },
      "source": [
        "x = 8\n",
        "if x==10:\n",
        "  print('It is 10')\n",
        "else:\n",
        "  print('It is %s' %x)\n"
      ],
      "execution_count": null,
      "outputs": [
        {
          "output_type": "stream",
          "text": [
            "It is 8\n"
          ],
          "name": "stdout"
        }
      ]
    },
    {
      "cell_type": "markdown",
      "metadata": {
        "id": "Dn-DIDqAmvW0"
      },
      "source": [
        "### 3항 연산자\n",
        "- Java, JS: a = (조건) ? 참일 때의 값 : 거짓일 때의 값\n",
        "- 파이썬 : a = 참일 떄의 값 if (조건) else 거짓일 때의 값"
      ]
    },
    {
      "cell_type": "code",
      "metadata": {
        "colab": {
          "base_uri": "https://localhost:8080/",
          "height": 35
        },
        "id": "c7XmmP1ImoKH",
        "outputId": "19bd8224-3914-407e-b047-23b080881666"
      },
      "source": [
        "x = 1\n",
        "if x%2 ==0:\n",
        "  y = 'even'\n",
        "else:\n",
        "  y = 'odd'\n",
        "y "
      ],
      "execution_count": null,
      "outputs": [
        {
          "output_type": "execute_result",
          "data": {
            "application/vnd.google.colaboratory.intrinsic+json": {
              "type": "string"
            },
            "text/plain": [
              "'odd'"
            ]
          },
          "metadata": {
            "tags": []
          },
          "execution_count": 4
        }
      ]
    },
    {
      "cell_type": "code",
      "metadata": {
        "colab": {
          "base_uri": "https://localhost:8080/",
          "height": 35
        },
        "id": "fieFq94qnAcG",
        "outputId": "8fd5faeb-3f6a-4a17-c156-3e19ad70c2ee"
      },
      "source": [
        "# 3항 연산자의 경우 :가 안들어간다.\n",
        "y = 'even' if x%2 == 0 else 'odd'\n",
        "y"
      ],
      "execution_count": null,
      "outputs": [
        {
          "output_type": "execute_result",
          "data": {
            "application/vnd.google.colaboratory.intrinsic+json": {
              "type": "string"
            },
            "text/plain": [
              "'odd'"
            ]
          },
          "metadata": {
            "tags": []
          },
          "execution_count": 5
        }
      ]
    },
    {
      "cell_type": "markdown",
      "metadata": {
        "id": "OFVW9sPguMjA"
      },
      "source": [
        "### 중첩 if 조건문"
      ]
    },
    {
      "cell_type": "code",
      "metadata": {
        "colab": {
          "base_uri": "https://localhost:8080/"
        },
        "id": "6CXw2wFGnO33",
        "outputId": "296e5035-8028-4837-b626-aa1fc88a47d3"
      },
      "source": [
        "# 학점 예시\n",
        "x = int(input('당신의 점수를 입력하세요 > '))\n",
        "if x >= 90:\n",
        "    print('A')\n",
        "if x < 90 and x >=80 :\n",
        "    print('B')\n",
        "if x < 80 and x >=70 :\n",
        "    print('C')\n",
        "if x <70 and x >=60 :\n",
        "    print('D')\n",
        "if x < 60:\n",
        "    print('F')\n"
      ],
      "execution_count": null,
      "outputs": [
        {
          "output_type": "stream",
          "text": [
            "당신의 점수를 입력하세요 > 75\n",
            "C\n"
          ],
          "name": "stdout"
        }
      ]
    },
    {
      "cell_type": "code",
      "metadata": {
        "colab": {
          "base_uri": "https://localhost:8080/"
        },
        "id": "XqSbKJcUo5q1",
        "outputId": "11634ea9-6d95-48e7-c5ff-2e7604c5350a"
      },
      "source": [
        "score = int(input('점수를 입력하세요>'))\n",
        "if score >=90:\n",
        "  print('A')\n",
        "else:\n",
        "  if score >= 80:\n",
        "      print('B')\n",
        "  else:\n",
        "      if score >=70:\n",
        "        print('C')\n",
        "      else:\n",
        "          if score >=60:\n",
        "            print('D')\n",
        "          else:\n",
        "            print('F')\n"
      ],
      "execution_count": null,
      "outputs": [
        {
          "output_type": "stream",
          "text": [
            "점수를 입력하세요>75\n",
            "C\n"
          ],
          "name": "stdout"
        }
      ]
    },
    {
      "cell_type": "code",
      "metadata": {
        "colab": {
          "base_uri": "https://localhost:8080/",
          "height": 35
        },
        "id": "Hi7yr9X2qqDu",
        "outputId": "359a3ec5-07d7-44a1-fed6-ecc96f69dab8"
      },
      "source": [
        "score = 66\n",
        "grade = 'A' if score >= 90 else \\\n",
        "          'B' if score >= 80 else \\\n",
        "            'C' if score >=70 else \\\n",
        "              'D' if score >=60 else 'F'\n",
        "grade"
      ],
      "execution_count": null,
      "outputs": [
        {
          "output_type": "execute_result",
          "data": {
            "application/vnd.google.colaboratory.intrinsic+json": {
              "type": "string"
            },
            "text/plain": [
              "'D'"
            ]
          },
          "metadata": {
            "tags": []
          },
          "execution_count": 15
        }
      ]
    },
    {
      "cell_type": "code",
      "metadata": {
        "id": "BxOOdDYNrF-t"
      },
      "source": [
        ""
      ],
      "execution_count": null,
      "outputs": []
    }
  ]
}