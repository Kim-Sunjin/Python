{
  "nbformat": 4,
  "nbformat_minor": 2,
  "metadata": {
    "colab": {
      "name": "5회차_김선진.ipynb",
      "provenance": []
    },
    "kernelspec": {
      "name": "python3",
      "display_name": "Python 3.8.10 64-bit ('base': conda)"
    },
    "language_info": {
      "name": "python",
      "version": "3.8.10",
      "mimetype": "text/x-python",
      "codemirror_mode": {
        "name": "ipython",
        "version": 3
      },
      "pygments_lexer": "ipython3",
      "nbconvert_exporter": "python",
      "file_extension": ".py"
    },
    "interpreter": {
      "hash": "acbbfebbbdf654efa85aa18169a14b54796a806b8c18a3c243660030e08aa454"
    }
  },
  "cells": [
    {
      "cell_type": "markdown",
      "source": [
        "## Unit 8. 심사문제"
      ],
      "metadata": {
        "id": "_99Ix8oTzYHN"
      }
    },
    {
      "cell_type": "code",
      "execution_count": 3,
      "source": [
        "a, b, c, d = input(\"국어, 영어, 수학, 과학 점수를 순서대로 입력하세요>\").split()\r\n",
        "a = int(a)\r\n",
        "b = int(b)\r\n",
        "c = int(c)\r\n",
        "if a >= 90 and b > 80 and c > 85 and d >=80:\r\n",
        "  print('True')\r\n",
        "else:\r\n",
        "  print('False')\r\n"
      ],
      "outputs": [
        {
          "output_type": "stream",
          "name": "stdout",
          "text": [
            "국어, 영어, 수학, 과학 점수를 순서대로 입력하세요>90 85 80 90\n",
            "False\n"
          ]
        }
      ],
      "metadata": {
        "id": "KyCKao3HwyCE",
        "colab": {
          "base_uri": "https://localhost:8080/"
        },
        "outputId": "18e12639-2f43-43c2-b271-a647189b6e79"
      }
    },
    {
      "cell_type": "markdown",
      "source": [
        "## Unit 9. 심사문제"
      ],
      "metadata": {
        "id": "YDR6I1gNzdDL"
      }
    },
    {
      "cell_type": "code",
      "execution_count": 6,
      "source": [
        "s = ''''Python is a \"programming language\"\r\n",
        "that lets you work quickly\r\n",
        "and\r\n",
        "integrate systems more effectiverly'''\r\n",
        "print(s)"
      ],
      "outputs": [
        {
          "output_type": "stream",
          "name": "stdout",
          "text": [
            "'Python is a \"programming language\"\n",
            "that lets you work quickly\n",
            "and\n",
            "integrate systems more effectiverly\n"
          ]
        }
      ],
      "metadata": {
        "colab": {
          "base_uri": "https://localhost:8080/"
        },
        "id": "QTd7pZpDyFUV",
        "outputId": "e8bd3674-828e-477e-879e-50c908917c7f"
      }
    },
    {
      "cell_type": "markdown",
      "source": [
        "## Unit 10. 심사문제"
      ],
      "metadata": {
        "id": "Ar1Q4ntd10D1"
      }
    },
    {
      "cell_type": "code",
      "execution_count": 9,
      "source": [
        "a = tuple(range(-10,10,int(input())))\r\n",
        "print(a)"
      ],
      "outputs": [
        {
          "output_type": "stream",
          "name": "stdout",
          "text": [
            "2\n",
            "(-10, -8, -6, -4, -2, 0, 2, 4, 6, 8)\n"
          ]
        }
      ],
      "metadata": {
        "colab": {
          "base_uri": "https://localhost:8080/"
        },
        "id": "AB08odP203Vs",
        "outputId": "59c001a5-bf42-45f4-9e45-d646155a88f3"
      }
    },
    {
      "cell_type": "code",
      "execution_count": 1,
      "source": [
        "inc = int(input())\r\n",
        "print(tuple(range(-10,10,inc)))"
      ],
      "outputs": [
        {
          "output_type": "stream",
          "name": "stdout",
          "text": [
            "(-10, -8, -6, -4, -2, 0, 2, 4, 6, 8)\n"
          ]
        }
      ],
      "metadata": {}
    },
    {
      "cell_type": "markdown",
      "source": [
        "## Unit 11. 심사문제"
      ],
      "metadata": {
        "id": "OKiU20e43Bci"
      }
    },
    {
      "cell_type": "markdown",
      "source": [
        "### 문제 1. 리스트의 마지막 부분 삭제하기"
      ],
      "metadata": {
        "id": "byxMnVrY3FCl"
      }
    },
    {
      "cell_type": "code",
      "execution_count": 14,
      "source": [
        "# 리스트 x의 마지막 요소 5개를 삭제한 뒤 튜플로 출격되게 만드세요.\r\n",
        "x =input().split()\r\n",
        "if len(x) > 5: \r\n",
        "  del x[len(x)-5:]\r\n",
        "  print(tuple(x))\r\n",
        "else:\r\n",
        "  print(tuple(x))"
      ],
      "outputs": [
        {
          "output_type": "stream",
          "name": "stdout",
          "text": [
            "1 2 3 4 5 6 7 8 9 10\n",
            "('1', '2', '3', '4', '5')\n"
          ]
        }
      ],
      "metadata": {
        "colab": {
          "base_uri": "https://localhost:8080/"
        },
        "id": "Dp1j14UX2PTK",
        "outputId": "775f34de-627b-469d-c027-1e580f216d01"
      }
    },
    {
      "cell_type": "markdown",
      "source": [
        "### 문제 2. 문자열에서 인덱스가 홀수인 문자와 짝수인 문자 연결하기"
      ],
      "metadata": {
        "id": "scMCl7ZS4pWC"
      }
    },
    {
      "cell_type": "code",
      "execution_count": 19,
      "source": [
        "var1, var2 = input().split()\r\n",
        "var1[1:len(var1):2] + var2[0:len(var2):2]"
      ],
      "outputs": [
        {
          "output_type": "stream",
          "name": "stdout",
          "text": [
            "apple strawberry\n"
          ]
        },
        {
          "output_type": "execute_result",
          "data": {
            "text/plain": [
              "'plsrwer'"
            ],
            "application/vnd.google.colaboratory.intrinsic+json": {
              "type": "string"
            }
          },
          "metadata": {
            "tags": []
          },
          "execution_count": 19
        }
      ],
      "metadata": {
        "colab": {
          "base_uri": "https://localhost:8080/",
          "height": 53
        },
        "id": "FMyUU_bZ3kaO",
        "outputId": "979dff07-732e-44d8-d800-f445a48d7cf2"
      }
    },
    {
      "cell_type": "markdown",
      "source": [
        "## Unit 12. 심사문제"
      ],
      "metadata": {
        "id": "8XlB_g-T7Jlt"
      }
    },
    {
      "cell_type": "code",
      "execution_count": 25,
      "source": [
        "a = input().split()\r\n",
        "b= map(float,input().split())\r\n",
        "c = dict(zip(a,b))\r\n",
        "print(c)"
      ],
      "outputs": [
        {
          "output_type": "stream",
          "name": "stdout",
          "text": [
            "a b c d\n",
            "1 2 3 4\n",
            "{'a': 1.0, 'b': 2.0, 'c': 3.0, 'd': 4.0}\n"
          ]
        }
      ],
      "metadata": {
        "colab": {
          "base_uri": "https://localhost:8080/"
        },
        "id": "bA_x6LSd5xUa",
        "outputId": "db89fc9c-d39c-4d7c-a3fb-fe2374f87cc8"
      }
    },
    {
      "cell_type": "markdown",
      "source": [
        "## Unit 13. 심사문제"
      ],
      "metadata": {
        "id": "SbG_rQeW_1ZW"
      }
    },
    {
      "cell_type": "code",
      "execution_count": 26,
      "source": [
        "price = int(input())\r\n",
        "cou = input()\r\n",
        "if cou == 'Cash3000':\r\n",
        "  price -=3000\r\n",
        "  print(price)\r\n",
        "if cou == 'Cash5000':\r\n",
        "  price-= 5000\r\n",
        "  print(price)"
      ],
      "outputs": [
        {
          "output_type": "stream",
          "name": "stdout",
          "text": [
            "27000\n",
            "Cash3000\n",
            "24000\n"
          ]
        }
      ],
      "metadata": {
        "colab": {
          "base_uri": "https://localhost:8080/"
        },
        "id": "CQcUOFv09HeY",
        "outputId": "ea30cde9-4005-41ab-9d79-975eb30a884a"
      }
    },
    {
      "cell_type": "markdown",
      "source": [
        "## Unit 14. 심사문제"
      ],
      "metadata": {
        "id": "lRS5f5w6BPsi"
      }
    },
    {
      "cell_type": "code",
      "execution_count": 31,
      "source": [
        "a, b, c, d = map(int,input().split())\r\n",
        "if 100>= a >= 0 and 100>= b >= 0 and 100>= c >= 0 and 100>= d >= 0:\r\n",
        "  if (a+b+c+d)/4 >=80:\r\n",
        "    print('합격')\r\n",
        "  else:\r\n",
        "    print('불합격')\r\n",
        "else:\r\n",
        "  print('잘못된 점수')\r\n"
      ],
      "outputs": [
        {
          "output_type": "stream",
          "name": "stdout",
          "text": [
            "89 72 93 82\n",
            "합격\n"
          ]
        }
      ],
      "metadata": {
        "colab": {
          "base_uri": "https://localhost:8080/"
        },
        "id": "Oj__yGefAjLS",
        "outputId": "c627ff79-ce6f-4ae1-d573-ec3eb019d7b6"
      }
    }
  ]
}