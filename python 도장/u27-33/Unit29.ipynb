{
 "cells": [
  {
   "cell_type": "markdown",
   "source": [
    "# Unit 29. 함수"
   ],
   "metadata": {}
  },
  {
   "cell_type": "markdown",
   "source": [
    "## 29.1  출력 함수 만들기"
   ],
   "metadata": {}
  },
  {
   "cell_type": "code",
   "execution_count": 3,
   "source": [
    "def hello():\r\n",
    "    print('Hello, world!')\r\n",
    "\r\n",
    "hello()"
   ],
   "outputs": [
    {
     "output_type": "stream",
     "name": "stdout",
     "text": [
      "Hello, world!\n"
     ]
    }
   ],
   "metadata": {}
  },
  {
   "cell_type": "code",
   "execution_count": null,
   "source": [
    "def hello():\r\n",
    "    pass"
   ],
   "outputs": [],
   "metadata": {}
  },
  {
   "cell_type": "code",
   "execution_count": 6,
   "source": [
    "# 매개변수, parameter, argument\r\n",
    "def add(a,b):\r\n",
    "    \"\"\"\r\n",
    "    이 함수는 a와 b의 합을 구하는 함수입니다.\r\n",
    "    \"\"\" # 독스트링(Docstring)\r\n",
    "    print(a+b)\r\n",
    "\r\n",
    "add(10, 20)"
   ],
   "outputs": [
    {
     "output_type": "stream",
     "name": "stdout",
     "text": [
      "30\n"
     ]
    }
   ],
   "metadata": {}
  },
  {
   "cell_type": "code",
   "execution_count": 7,
   "source": [
    "# 도움말 호출\r\n",
    "add?"
   ],
   "outputs": [
    {
     "output_type": "stream",
     "name": "stdout",
     "text": [
      "\u001b[1;31mSignature:\u001b[0m \u001b[0madd\u001b[0m\u001b[1;33m(\u001b[0m\u001b[0ma\u001b[0m\u001b[1;33m,\u001b[0m \u001b[0mb\u001b[0m\u001b[1;33m)\u001b[0m\u001b[1;33m\u001b[0m\u001b[1;33m\u001b[0m\u001b[0m\n",
      "\u001b[1;31mDocstring:\u001b[0m 이 함수는 a와 b의 합을 구하는 함수입니다.\n",
      "\u001b[1;31mFile:\u001b[0m      c:\\workspace\\python\\python 도장\\u27-31\\<ipython-input-6-979cdf5757dc>\n",
      "\u001b[1;31mType:\u001b[0m      function\n"
     ]
    }
   ],
   "metadata": {}
  },
  {
   "cell_type": "code",
   "execution_count": 8,
   "source": [
    "def add2(a,b):\r\n",
    "    \"\"\"두 수의 합을 구하는 함수\"\"\"\r\n",
    "    return a + b\r\n",
    "\r\n",
    "x = add2(10,20)\r\n",
    "print(x)\r\n",
    "print(add2.__doc__)"
   ],
   "outputs": [
    {
     "output_type": "stream",
     "name": "stdout",
     "text": [
      "30\n",
      "두 수의 합을 구하는 함수\n"
     ]
    }
   ],
   "metadata": {}
  },
  {
   "cell_type": "markdown",
   "source": [
    "## 29.3 결과값 반환"
   ],
   "metadata": {}
  },
  {
   "cell_type": "code",
   "execution_count": 9,
   "source": [
    "print(add2(10,20))"
   ],
   "outputs": [
    {
     "output_type": "stream",
     "name": "stdout",
     "text": [
      "30\n"
     ]
    }
   ],
   "metadata": {}
  },
  {
   "cell_type": "code",
   "execution_count": 10,
   "source": [
    "def function(x):\r\n",
    "    return x**2+x+1\r\n",
    "function(5)"
   ],
   "outputs": [
    {
     "output_type": "execute_result",
     "data": {
      "text/plain": [
       "31"
      ]
     },
     "metadata": {},
     "execution_count": 10
    }
   ],
   "metadata": {}
  },
  {
   "cell_type": "code",
   "execution_count": 11,
   "source": [
    "def is_ten(x):\r\n",
    "    return x==10\r\n",
    "\r\n",
    "is_ten(101/100)"
   ],
   "outputs": [
    {
     "output_type": "execute_result",
     "data": {
      "text/plain": [
       "False"
      ]
     },
     "metadata": {},
     "execution_count": 11
    }
   ],
   "metadata": {}
  },
  {
   "cell_type": "code",
   "execution_count": 13,
   "source": [
    "def not_ten(x):\r\n",
    "    if x==10:\r\n",
    "        return\r\n",
    "    print('It is not ten')\r\n",
    "\r\n",
    "not_ten(10)"
   ],
   "outputs": [],
   "metadata": {}
  },
  {
   "cell_type": "markdown",
   "source": [
    "## 29.4 여러개의 결과값 반환"
   ],
   "metadata": {}
  },
  {
   "cell_type": "code",
   "execution_count": 14,
   "source": [
    "def add_sub(a,b):\r\n",
    "    return a+b, a-b\r\n",
    "\r\n",
    "add_sub(10,5)"
   ],
   "outputs": [
    {
     "output_type": "execute_result",
     "data": {
      "text/plain": [
       "(15, 5)"
      ]
     },
     "metadata": {},
     "execution_count": 14
    }
   ],
   "metadata": {}
  },
  {
   "cell_type": "code",
   "execution_count": 15,
   "source": [
    "x,y=add_sub(20,10)\r\n",
    "x,y"
   ],
   "outputs": [
    {
     "output_type": "execute_result",
     "data": {
      "text/plain": [
       "(30, 10)"
      ]
     },
     "metadata": {},
     "execution_count": 15
    }
   ],
   "metadata": {}
  },
  {
   "cell_type": "markdown",
   "source": [
    "## 29.5 함수의 호출과정"
   ],
   "metadata": {}
  },
  {
   "cell_type": "markdown",
   "source": [
    "### 연습 문제\r\n",
    "- 3자리수 정수 두개를 곱해서 나온 결과가 팔린드롬이 되도록 할 때, 가장 큰 숫자는?"
   ],
   "metadata": {}
  },
  {
   "cell_type": "code",
   "execution_count": 25,
   "source": [
    "# 내가 푼 방법\r\n",
    "def pallin(x):\r\n",
    "    num_list=list(map(int,str(x)))\r\n",
    "    if num_list == num_list[::-1]:\r\n",
    "        return x\r\n",
    "    return 0\r\n",
    "\r\n",
    "pallin_list = []\r\n",
    "for i in range(100,1000):\r\n",
    "    for k in range(100,1000):\r\n",
    "        z=i*k\r\n",
    "        if pallin(z)>0:\r\n",
    "            pallin_list.append(pallin(z))\r\n",
    "\r\n",
    "pallin_list.sort()\r\n",
    "print(pallin_list[-1])"
   ],
   "outputs": [
    {
     "output_type": "stream",
     "name": "stdout",
     "text": [
      "906609\n"
     ]
    }
   ],
   "metadata": {}
  },
  {
   "cell_type": "code",
   "execution_count": 27,
   "source": [
    "# AI가 알려준 함수\r\n",
    "def is_pallin(x):\r\n",
    "    s=str(x)\r\n",
    "    return s == s[::-1]"
   ],
   "outputs": [],
   "metadata": {}
  },
  {
   "cell_type": "code",
   "execution_count": 28,
   "source": [
    "# 풀이\r\n",
    "max_pal=0\r\n",
    "for i in range(100,1000):\r\n",
    "    for k in range(100,1000):\r\n",
    "        if is_pallin(i*k):\r\n",
    "            if i*k>max_pal:\r\n",
    "                max_pal = i*k\r\n",
    "                m = i\r\n",
    "                n = k\r\n",
    "print(f'{m} X {n} = {max_pal}')"
   ],
   "outputs": [
    {
     "output_type": "stream",
     "name": "stdout",
     "text": [
      "913 X 993 = 906609\n"
     ]
    }
   ],
   "metadata": {}
  },
  {
   "cell_type": "code",
   "execution_count": null,
   "source": [],
   "outputs": [],
   "metadata": {}
  }
 ],
 "metadata": {
  "orig_nbformat": 4,
  "language_info": {
   "name": "python",
   "version": "3.8.10",
   "mimetype": "text/x-python",
   "codemirror_mode": {
    "name": "ipython",
    "version": 3
   },
   "pygments_lexer": "ipython3",
   "nbconvert_exporter": "python",
   "file_extension": ".py"
  },
  "kernelspec": {
   "name": "python3",
   "display_name": "Python 3.8.10 64-bit ('base': conda)"
  },
  "interpreter": {
   "hash": "acbbfebbbdf654efa85aa18169a14b54796a806b8c18a3c243660030e08aa454"
  }
 },
 "nbformat": 4,
 "nbformat_minor": 2
}