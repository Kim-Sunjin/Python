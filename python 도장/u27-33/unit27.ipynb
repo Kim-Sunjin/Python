{
 "cells": [
  {
   "cell_type": "markdown",
   "source": [
    "# Unit 27. 파일"
   ],
   "metadata": {}
  },
  {
   "cell_type": "markdown",
   "source": [
    "##  27.1 문자열 쓰기"
   ],
   "metadata": {}
  },
  {
   "cell_type": "code",
   "execution_count": 3,
   "source": [
    "file = open('hello.txt','w')\r\n",
    "file.write('Hello, world!')\r\n",
    "file.close()"
   ],
   "outputs": [],
   "metadata": {}
  },
  {
   "cell_type": "code",
   "execution_count": 5,
   "source": [
    "file = open('hello.txt','r') # r이 디폴트여서 안써도됨\r\n",
    "s = file.read()\r\n",
    "print(s)\r\n",
    "file.close()"
   ],
   "outputs": [
    {
     "output_type": "stream",
     "name": "stdout",
     "text": [
      "Hello, world!\n"
     ]
    }
   ],
   "metadata": {}
  },
  {
   "cell_type": "markdown",
   "source": [
    "### 파이썬 스타일"
   ],
   "metadata": {}
  },
  {
   "cell_type": "code",
   "execution_count": 6,
   "source": [
    "with open('hello.txt') as file: # with와 쓰면 들여쓰기가 끝나면 자동 close된다.\r\n",
    "    s = file.read()\r\n",
    "print(s)"
   ],
   "outputs": [
    {
     "output_type": "stream",
     "name": "stdout",
     "text": [
      "Hello, world!\n"
     ]
    }
   ],
   "metadata": {}
  },
  {
   "cell_type": "markdown",
   "source": [
    "## 27.2 문자열 여러줄"
   ],
   "metadata": {}
  },
  {
   "cell_type": "code",
   "execution_count": 7,
   "source": [
    "with open('hello.txt', 'w') as file:\r\n",
    "    for i in range(3):\r\n",
    "        file.write(f'Hello, world! {i+1}\\n')"
   ],
   "outputs": [],
   "metadata": {}
  },
  {
   "cell_type": "code",
   "execution_count": null,
   "source": [
    "lines = ['안녕하세요. \\n', '파이썬\\n']\r\n",
    "with open('hello.txt','w', encoding='utf-8') as file:\r\n",
    "    file.writelines(lines)"
   ],
   "outputs": [],
   "metadata": {}
  },
  {
   "cell_type": "code",
   "execution_count": null,
   "source": [
    "s ='''안녕하세요\r\n",
    "파이썬\r\n",
    "코딩도장'''\r\n",
    "with open('hello.txt', 'w') as file:\r\n",
    "    file.write(s)"
   ],
   "outputs": [],
   "metadata": {}
  },
  {
   "cell_type": "code",
   "execution_count": 8,
   "source": [
    "with open('hello.txt') as file:\r\n",
    "    s = file.read()\r\n",
    "print(s)"
   ],
   "outputs": [
    {
     "output_type": "stream",
     "name": "stdout",
     "text": [
      "Hello, world! 1\n",
      "Hello, world! 2\n",
      "Hello, world! 3\n",
      "\n"
     ]
    }
   ],
   "metadata": {}
  },
  {
   "cell_type": "code",
   "execution_count": 9,
   "source": [
    "with open('hello.txt') as file:\r\n",
    "    s = file.readline()\r\n"
   ],
   "outputs": [
    {
     "output_type": "stream",
     "name": "stdout",
     "text": [
      "Hello, world! 1\n",
      "\n"
     ]
    }
   ],
   "metadata": {}
  },
  {
   "cell_type": "code",
   "execution_count": 11,
   "source": [
    "with open('hello.txt') as file:\r\n",
    "    line = None\r\n",
    "    while line != '':\r\n",
    "        line = file.readline()\r\n",
    "        print(line.strip('\\n'))\r\n"
   ],
   "outputs": [
    {
     "output_type": "stream",
     "name": "stdout",
     "text": [
      "Hello, world! 1\n",
      "Hello, world! 2\n",
      "Hello, world! 3\n",
      "\n"
     ]
    }
   ],
   "metadata": {}
  },
  {
   "cell_type": "code",
   "execution_count": 10,
   "source": [
    "with open('hello.txt') as file:\r\n",
    "    for line in file:\r\n",
    "        print(line.strip('\\n'))"
   ],
   "outputs": [
    {
     "output_type": "stream",
     "name": "stdout",
     "text": [
      "Hello, world! 1\n",
      "Hello, world! 2\n",
      "Hello, world! 3\n"
     ]
    }
   ],
   "metadata": {}
  },
  {
   "cell_type": "code",
   "execution_count": null,
   "source": [
    "x = {'a':10,'b':20}\r\n",
    "dir(x)"
   ],
   "outputs": [],
   "metadata": {}
  },
  {
   "cell_type": "code",
   "execution_count": null,
   "source": [
    "dir(file)"
   ],
   "outputs": [],
   "metadata": {}
  },
  {
   "cell_type": "code",
   "execution_count": 15,
   "source": [
    "with open('hello.txt') as file:\r\n",
    "    s = file.read(15)\r\n",
    "print(s)"
   ],
   "outputs": [
    {
     "output_type": "stream",
     "name": "stdout",
     "text": [
      "Hello, world! 1\n"
     ]
    }
   ],
   "metadata": {}
  },
  {
   "cell_type": "markdown",
   "source": [
    "### binary mode"
   ],
   "metadata": {}
  },
  {
   "cell_type": "code",
   "execution_count": null,
   "source": [
    "with open('chairs.jpg','rb') as bin:\r\n",
    "    x = bin.read(10)\r\n",
    "\r\n",
    "print(x)"
   ],
   "outputs": [],
   "metadata": {}
  },
  {
   "cell_type": "markdown",
   "source": [
    "## 27.3 파이썬 객체 읽고 쓰기"
   ],
   "metadata": {}
  },
  {
   "cell_type": "code",
   "execution_count": 17,
   "source": [
    "import pickle\r\n",
    "\r\n",
    "scores = {'kor':90, 'eng':90, 'mat':80}\r\n",
    "with open('binary.pkl', 'wb') as file:\r\n",
    "    pickle.dump(scores, file)\r\n"
   ],
   "outputs": [],
   "metadata": {}
  },
  {
   "cell_type": "code",
   "execution_count": 21,
   "source": [
    "with open('binary.pkl','rb') as file:\r\n",
    "    new_scores = pickle.load(file)\r\n",
    "\r\n",
    "new_scores"
   ],
   "outputs": [
    {
     "output_type": "execute_result",
     "data": {
      "text/plain": [
       "{'kor': 90, 'eng': 90, 'mat': 80}"
      ]
     },
     "metadata": {},
     "execution_count": 21
    }
   ],
   "metadata": {}
  },
  {
   "cell_type": "code",
   "execution_count": null,
   "source": [],
   "outputs": [],
   "metadata": {}
  }
 ],
 "metadata": {
  "orig_nbformat": 4,
  "language_info": {
   "name": "python",
   "version": "3.8.10",
   "mimetype": "text/x-python",
   "codemirror_mode": {
    "name": "ipython",
    "version": 3
   },
   "pygments_lexer": "ipython3",
   "nbconvert_exporter": "python",
   "file_extension": ".py"
  },
  "kernelspec": {
   "name": "python3",
   "display_name": "Python 3.8.10 64-bit ('base': conda)"
  },
  "interpreter": {
   "hash": "acbbfebbbdf654efa85aa18169a14b54796a806b8c18a3c243660030e08aa454"
  }
 },
 "nbformat": 4,
 "nbformat_minor": 2
}