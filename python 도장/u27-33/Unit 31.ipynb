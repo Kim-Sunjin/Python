{
 "cells": [
  {
   "cell_type": "markdown",
   "source": [
    "# Unit 31. 재귀호출(Recursive call)"
   ],
   "metadata": {}
  },
  {
   "cell_type": "markdown",
   "source": [
    "## factorial 함수를 재귀호출로 구현"
   ],
   "metadata": {}
  },
  {
   "cell_type": "code",
   "execution_count": 1,
   "source": [
    "def factorial(n):\r\n",
    "    if n==0:\r\n",
    "        return 1\r\n",
    "    return n*factorial(n-1)\r\n",
    "\r\n",
    "print(factorial(5))"
   ],
   "outputs": [
    {
     "output_type": "stream",
     "name": "stdout",
     "text": [
      "120\n"
     ]
    }
   ],
   "metadata": {}
  },
  {
   "cell_type": "markdown",
   "source": [
    "### fibonacci 수열\r\n",
    "f(n) = f(n-1) + f(n-2), n >=3일때\r\n",
    "f(1)=1, f(2)=1"
   ],
   "metadata": {}
  },
  {
   "cell_type": "code",
   "execution_count": 4,
   "source": [
    "def fibo(n):\r\n",
    "    if n ==1 or n==2:\r\n",
    "        return 1\r\n",
    "    return fibo(n-1) + fibo(n-2)\r\n"
   ],
   "outputs": [],
   "metadata": {}
  },
  {
   "cell_type": "code",
   "execution_count": 5,
   "source": [
    "[fibo(i) for i in range(1,11)]"
   ],
   "outputs": [
    {
     "output_type": "execute_result",
     "data": {
      "text/plain": [
       "[1, 1, 2, 3, 5, 8, 13, 21, 34, 55]"
      ]
     },
     "metadata": {},
     "execution_count": 5
    }
   ],
   "metadata": {}
  },
  {
   "cell_type": "code",
   "execution_count": null,
   "source": [],
   "outputs": [],
   "metadata": {}
  }
 ],
 "metadata": {
  "orig_nbformat": 4,
  "language_info": {
   "name": "python",
   "version": "3.8.10",
   "mimetype": "text/x-python",
   "codemirror_mode": {
    "name": "ipython",
    "version": 3
   },
   "pygments_lexer": "ipython3",
   "nbconvert_exporter": "python",
   "file_extension": ".py"
  },
  "kernelspec": {
   "name": "python3",
   "display_name": "Python 3.8.10 64-bit ('base': conda)"
  },
  "interpreter": {
   "hash": "acbbfebbbdf654efa85aa18169a14b54796a806b8c18a3c243660030e08aa454"
  }
 },
 "nbformat": 4,
 "nbformat_minor": 2
}