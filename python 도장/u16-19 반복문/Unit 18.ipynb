{
 "cells": [
  {
   "cell_type": "markdown",
   "source": [
    "# Unit 18.반복문 제어"
   ],
   "metadata": {}
  },
  {
   "cell_type": "markdown",
   "source": [
    "## 18.1 break"
   ],
   "metadata": {}
  },
  {
   "cell_type": "code",
   "execution_count": 2,
   "source": [
    "import random\r\n",
    "while True:\r\n",
    "    i=random.randint(1,6)\r\n",
    "    print(i)\r\n",
    "    if i == 3:\r\n",
    "        break"
   ],
   "outputs": [
    {
     "output_type": "stream",
     "name": "stdout",
     "text": [
      "4\n",
      "3\n"
     ]
    }
   ],
   "metadata": {}
  },
  {
   "cell_type": "code",
   "execution_count": 3,
   "source": [
    "for i in range(5):\r\n",
    "    print(i, end=' ')\r\n",
    "    for k in range(5):\r\n",
    "        print('*', end='')\r\n",
    "        if i==k:\r\n",
    "            break"
   ],
   "outputs": [
    {
     "output_type": "stream",
     "name": "stdout",
     "text": [
      "0 *1 **2 ***3 ****4 *****"
     ]
    }
   ],
   "metadata": {}
  },
  {
   "cell_type": "code",
   "execution_count": 4,
   "source": [
    "for i in range(5):\r\n",
    "    print(i, end=' ')\r\n",
    "    for k in range(5):\r\n",
    "        print('*', end='')\r\n",
    "        if i==k:\r\n",
    "            break\r\n",
    "    print()"
   ],
   "outputs": [
    {
     "output_type": "stream",
     "name": "stdout",
     "text": [
      "0 *\n",
      "1 **\n",
      "2 ***\n",
      "3 ****\n",
      "4 *****\n"
     ]
    }
   ],
   "metadata": {}
  },
  {
   "cell_type": "markdown",
   "source": [
    "## 18.2 continue"
   ],
   "metadata": {}
  },
  {
   "cell_type": "code",
   "execution_count": 5,
   "source": [
    "for i in range(10):\r\n",
    "    if i % 2 == 0:\r\n",
    "        continue\r\n",
    "    print(i)"
   ],
   "outputs": [
    {
     "output_type": "stream",
     "name": "stdout",
     "text": [
      "1\n",
      "3\n",
      "5\n",
      "7\n",
      "9\n"
     ]
    }
   ],
   "metadata": {}
  },
  {
   "cell_type": "code",
   "execution_count": null,
   "source": [],
   "outputs": [],
   "metadata": {}
  }
 ],
 "metadata": {
  "orig_nbformat": 4,
  "language_info": {
   "name": "python",
   "version": "3.8.10",
   "mimetype": "text/x-python",
   "codemirror_mode": {
    "name": "ipython",
    "version": 3
   },
   "pygments_lexer": "ipython3",
   "nbconvert_exporter": "python",
   "file_extension": ".py"
  },
  "kernelspec": {
   "name": "python3",
   "display_name": "Python 3.8.10 64-bit ('base': conda)"
  },
  "interpreter": {
   "hash": "acbbfebbbdf654efa85aa18169a14b54796a806b8c18a3c243660030e08aa454"
  }
 },
 "nbformat": 4,
 "nbformat_minor": 2
}